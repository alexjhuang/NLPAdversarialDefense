{
 "cells": [
  {
   "cell_type": "code",
   "execution_count": 37,
   "metadata": {},
   "outputs": [
    {
     "name": "stdout",
     "output_type": "stream",
     "text": [
      "Note: you may need to restart the kernel to use updated packages.\n"
     ]
    }
   ],
   "source": [
    "%pip list --format=freeze > requirements.txt"
   ]
  },
  {
   "cell_type": "code",
   "execution_count": 1,
   "metadata": {},
   "outputs": [],
   "source": [
    "import torch\n",
    "from transformers import BertForSequenceClassification, ElectraForSequenceClassification, BertTokenizer, ElectraTokenizer\n",
    "from transformers import Trainer, TrainingArguments\n",
    "from datasets import load_dataset, load_from_disk\n",
    "import nltk\n",
    "from textattack.attack_recipes import TextFoolerJin2019\n",
    "from textattack.datasets import HuggingFaceDataset\n",
    "from textattack.models.wrappers import HuggingFaceModelWrapper\n",
    "from textattack import Attacker\n",
    "from sklearn.metrics import accuracy_score, f1_score"
   ]
  },
  {
   "cell_type": "code",
   "execution_count": 2,
   "metadata": {},
   "outputs": [],
   "source": [
    "dataset = load_dataset(\"imdb\")\n",
    "\n",
    "bert_tokenizer = BertTokenizer.from_pretrained('bert-base-uncased')\n",
    "electra_tokenizer = ElectraTokenizer.from_pretrained('google/electra-base-discriminator')"
   ]
  },
  {
   "cell_type": "code",
   "execution_count": 3,
   "metadata": {},
   "outputs": [],
   "source": [
    "def tokenize_function(examples, tokenizer):\n",
    "    return tokenizer(examples['text'], padding=\"max_length\", truncation=True)"
   ]
  },
  {
   "cell_type": "code",
   "execution_count": 3,
   "metadata": {},
   "outputs": [
    {
     "name": "stdout",
     "output_type": "stream",
     "text": [
      "Loaded BERT-encoded dataset from disk.\n",
      "Loaded ELECTRA-encoded dataset from disk.\n"
     ]
    },
    {
     "data": {
      "text/plain": [
       "<function torch.serialization.save(obj: object, f: Union[str, os.PathLike, BinaryIO, IO[bytes]], pickle_module: Any = <module 'pickle' from '/Users/awang/anaconda3/lib/python3.11/pickle.py'>, pickle_protocol: int = 2, _use_new_zipfile_serialization: bool = True, _disable_byteorder_record: bool = False) -> None>"
      ]
     },
     "execution_count": 3,
     "metadata": {},
     "output_type": "execute_result"
    }
   ],
   "source": [
    "try:\n",
    "    bert_encoded = load_from_disk(\".encoded_datasets/bert_encoded\")\n",
    "    print(\"Loaded BERT-encoded dataset from disk.\")\n",
    "except:\n",
    "    # If not saved, tokenize and save\n",
    "    bert_encoded = dataset.map(lambda x: tokenize_function(x, bert_tokenizer), batched=True)\n",
    "    bert_encoded.save_to_disk(\".encoded_datasets/bert_encoded\")\n",
    "    print(\"BERT-encoded dataset saved to disk.\")\n",
    "\n",
    "# Check if the ELECTRA-encoded dataset is already saved\n",
    "try:\n",
    "    electra_encoded = load_from_disk(\".encoded_datasets/electra_encoded\")\n",
    "    print(\"Loaded ELECTRA-encoded dataset from disk.\")\n",
    "except:\n",
    "    # If not saved, tokenize and save\n",
    "    electra_encoded = dataset.map(lambda x: tokenize_function(x, electra_tokenizer), batched=True)\n",
    "    electra_encoded.save_to_disk(\".encoded_datasets/electra_encoded\")\n",
    "    print(\"ELECTRA-encoded dataset saved to disk.\")\n",
    "\n",
    "torch.save"
   ]
  },
  {
   "cell_type": "code",
   "execution_count": 6,
   "metadata": {},
   "outputs": [
    {
     "name": "stderr",
     "output_type": "stream",
     "text": [
      "Some weights of BertForSequenceClassification were not initialized from the model checkpoint at bert-base-uncased and are newly initialized: ['classifier.bias', 'classifier.weight']\n",
      "You should probably TRAIN this model on a down-stream task to be able to use it for predictions and inference.\n",
      "Some weights of ElectraForSequenceClassification were not initialized from the model checkpoint at google/electra-base-discriminator and are newly initialized: ['classifier.dense.bias', 'classifier.dense.weight', 'classifier.out_proj.bias', 'classifier.out_proj.weight']\n",
      "You should probably TRAIN this model on a down-stream task to be able to use it for predictions and inference.\n",
      "textattack: Unknown if model of class <class 'transformers.models.bert.modeling_bert.BertForSequenceClassification'> compatible with goal function <class 'textattack.goal_functions.classification.untargeted_classification.UntargetedClassification'>.\n",
      "textattack: Loading \u001b[94mdatasets\u001b[0m dataset \u001b[94mimdb\u001b[0m, split \u001b[94mtest\u001b[0m.\n"
     ]
    },
    {
     "name": "stdout",
     "output_type": "stream",
     "text": [
      "Attack(\n",
      "  (search_method): GreedyWordSwapWIR(\n",
      "    (wir_method):  delete\n",
      "  )\n",
      "  (goal_function):  UntargetedClassification\n",
      "  (transformation):  WordSwapEmbedding(\n",
      "    (max_candidates):  50\n",
      "    (embedding):  WordEmbedding\n",
      "  )\n",
      "  (constraints): \n",
      "    (0): WordEmbeddingDistance(\n",
      "        (embedding):  WordEmbedding\n",
      "        (min_cos_sim):  0.5\n",
      "        (cased):  False\n",
      "        (include_unknown_words):  True\n",
      "        (compare_against_original):  True\n",
      "      )\n",
      "    (1): PartOfSpeech(\n",
      "        (tagger_type):  nltk\n",
      "        (tagset):  universal\n",
      "        (allow_verb_noun_swap):  True\n",
      "        (compare_against_original):  True\n",
      "      )\n",
      "    (2): UniversalSentenceEncoder(\n",
      "        (metric):  angular\n",
      "        (threshold):  0.840845057\n",
      "        (window_size):  15\n",
      "        (skip_text_shorter_than_window):  True\n",
      "        (compare_against_original):  False\n",
      "      )\n",
      "    (3): RepeatModification\n",
      "    (4): StopwordModification\n",
      "    (5): InputColumnModification(\n",
      "        (matching_column_labels):  ['premise', 'hypothesis']\n",
      "        (columns_to_ignore):  {'premise'}\n",
      "      )\n",
      "  (is_black_box):  True\n",
      ") \n",
      "\n"
     ]
    },
    {
     "name": "stderr",
     "output_type": "stream",
     "text": []
    },
    {
     "name": "stdout",
     "output_type": "stream",
     "text": [
      "--------------------------------------------- Result 1 ---------------------------------------------\n"
     ]
    },
    {
     "name": "stderr",
     "output_type": "stream",
     "text": []
    },
    {
     "name": "stdout",
     "output_type": "stream",
     "text": [
      "[[Negative (61%)]] --> [[Positive (50%)]]\n",
      "\n",
      "I [[love]] sci-fi and am willing to put up with a lot. Sci-fi movies/[[TV]] are [[usually]] underfunded, under-appreciated and [[misunderstood]]. I [[tried]] to like this, [[I]] [[really]] [[did]], but it is to [[good]] [[TV]] sci-fi as Babylon 5 is to [[Star]] [[Trek]] (the [[original]]). [[Silly]] [[prosthetics]], cheap cardboard [[sets]], [[stilted]] [[dialogues]], [[CG]] that doesn't [[match]] the [[background]], and [[painfully]] one-dimensional characters cannot [[be]] [[overcome]] with a 'sci-fi' [[setting]]. (I'm [[sure]] there are those of you out there who [[think]] [[Babylon]] 5 is [[good]] sci-fi [[TV]]. It's not. It's [[clichéd]] and [[uninspiring]].) [[While]] [[US]] [[viewers]] might like emotion and [[character]] [[development]], sci-fi is a [[genre]] that [[does]] not [[take]] itself [[seriously]] ([[cf]]. Star Trek). It may [[treat]] [[important]] [[issues]], yet not as a [[serious]] [[philosophy]]. It's [[really]] [[difficult]] to [[care]] about the characters here as they are not [[simply]] [[foolish]], just [[missing]] a [[spark]] of [[life]]. [[Their]] [[actions]] and [[reactions]] are wooden and [[predictable]], [[often]] [[painful]] to [[watch]]. [[The]] [[makers]] of [[Earth]] [[KNOW]] it's [[rubbish]] as they have to [[always]] [[say]] \"[[Gene]] Roddenberry's [[Earth]]...\" otherwise [[people]] would not [[continue]] [[watching]]. Roddenberry's [[ashes]] must [[be]] [[turning]] in their [[orbit]] as this dull, [[cheap]], [[poorly]] [[edited]] ([[watching]] it without [[advert]] breaks [[really]] brings this home) [[trudging]] Trabant of a [[show]] lumbers into [[space]]. Spoiler. [[So]], [[kill]] off a [[main]] [[character]]. And then [[bring]] him back as another actor. Jeeez! Dallas all over again.\n",
      "\n",
      "I [[likes]] sci-fi and am willing to put up with a lot. Sci-fi movies/[[FABIO]] are [[repeatedly]] underfunded, under-appreciated and [[interpretation]]. I [[trying]] to like this, [[me]] [[plainly]] [[know]], but it is to [[alright]] [[BUCHANAN]] sci-fi as Babylon 5 is to [[Celebrities]] [[Altitudes]] (the [[native]]). [[Dummy]] [[orthopedic]], cheap cardboard [[determines]], [[diction]] [[negotiation]], [[FIM]] that doesn't [[game]] the [[ambient]], and [[brutally]] one-dimensional characters cannot [[is]] [[resolve]] with a 'sci-fi' [[establish]]. (I'm [[ensures]] there are those of you out there who [[concept]] [[Assyria]] 5 is [[adequate]] sci-fi [[NUNEZ]]. It's not. It's [[bland]] and [[unappealing]].) [[Upon]] [[VERSUS]] [[spectator]] might like emotion and [[specifications]] [[progress]], sci-fi is a [[gender]] that [[could]] not [[takes]] itself [[bitterly]] ([[fc]]. Star Trek). It may [[processing]] [[main]] [[lawsuit]], yet not as a [[sizable]] [[existentialism]]. It's [[undoubtedly]] [[complex]] to [[caring]] about the characters here as they are not [[plainly]] [[irrational]], just [[parti]] a [[provoke]] of [[subsistence]]. [[Votre]] [[proceedings]] and [[reply]] are wooden and [[anticipated]], [[traditionally]] [[stiff]] to [[oversees]]. [[Both]] [[manufacturing]] of [[Land]] [[ACKNOWLEDGING]] it's [[crock]] as they have to [[evenly]] [[declare]] \"[[Locus]] Roddenberry's [[Terre]]...\" otherwise [[personnel]] would not [[continuation]] [[glancing]]. Roddenberry's [[dust]] must [[sean]] [[cornering]] in their [[trajectory]] as this dull, [[tania]], [[marginally]] [[publishing]] ([[witnessing]] it without [[promotional]] breaks [[fully]] brings this home) [[gallivanting]] Trabant of a [[exhibitions]] lumbers into [[spacing]]. Spoiler. [[Than]], [[matan]] off a [[underlying]] [[idiosyncrasies]]. And then [[furnish]] him back as another actor. Jeeez! Dallas all over again.\n",
      "\n",
      "\n"
     ]
    },
    {
     "name": "stderr",
     "output_type": "stream",
     "text": []
    },
    {
     "name": "stdout",
     "output_type": "stream",
     "text": [
      "--------------------------------------------- Result 2 ---------------------------------------------\n",
      "[[Negative (60%)]] --> [[Positive (50%)]]\n",
      "\n",
      "Worth the [[entertainment]] [[value]] of a rental, especially if you [[like]] [[action]] [[movies]]. [[This]] one [[features]] the [[usual]] [[car]] [[chases]], [[fights]] with the [[great]] Van Damme [[kick]] [[style]], [[shooting]] [[battles]] with the 40 [[shell]] [[load]] [[shotgun]], and even [[terrorist]] [[style]] bombs. [[All]] of this is [[entertaining]] and competently [[handled]] but there is nothing that [[really]] [[blows]] you [[away]] if you've [[seen]] your [[share]] before.<br /><[[br]] />The [[plot]] is [[made]] [[interesting]] by the [[inclusion]] of a rabbit, which is [[clever]] but [[hardly]] profound. [[Many]] of the characters are [[heavily]] [[stereotyped]] -- the [[angry]] [[veterans]], the [[terrified]] [[illegal]] [[aliens]], the [[crooked]] [[cops]], the [[indifferent]] [[feds]], the [[bitchy]] [[tough]] [[lady]] [[station]] [[head]], the [[crooked]] [[politician]], the [[fat]] federale who looks like he was typecast as the [[Mexican]] in a Hollywood movie from the 1940s. [[All]] passably [[acted]] but again nothing [[special]].<[[br]] /><[[br]] />[[I]] thought the [[main]] villains were [[pretty]] [[well]] done and [[fairly]] [[well]] [[acted]]. By the [[end]] of the [[movie]] you [[certainly]] [[knew]] who the [[good]] [[guys]] were and weren't. There was an [[emotional]] lift as the [[really]] [[bad]] [[ones]] [[got]] their just [[deserts]]. [[Very]] simplistic, but then you weren't [[expecting]] [[Hamlet]], [[right]]? The only thing I [[found]] [[really]] [[annoying]] was the [[constant]] [[cuts]] to VDs daughter during the [[last]] fight [[scene]].<[[br]] /><br />Not [[bad]]. [[Not]] good. Passable 4.\n",
      "\n",
      "Worth the [[amusing]] [[worth]] of a rental, especially if you [[enjoy]] [[operating]] [[cinematographic]]. [[That]] one [[characters]] the [[martial]] [[carts]] [[chase]], [[struggles]] with the [[brilliant]] Van Damme [[beneath]] [[layout]], [[kills]] [[hostilities]] with the 40 [[missile]] [[shipment]] [[fusiliers]], and even [[qaida]] [[designing]] bombs. [[Any]] of this is [[distracting]] and competently [[transformed]] but there is nothing that [[vitally]] [[shattering]] you [[remotely]] if you've [[noted]] your [[portion]] before.<br /><[[ab]] />The [[plotted]] is [[were]] [[seductive]] by the [[inscribe]] of a rabbit, which is [[brightest]] but [[scarcely]] profound. [[Variety]] of the characters are [[noticeably]] [[cliched]] -- the [[exasperated]] [[fighter]], the [[outraged]] [[irregular]] [[foreigner]], the [[fraudulent]] [[cp]], the [[marble]] [[fbl]], the [[vaca]] [[violent]] [[consort]] [[stands]] [[chairperson]], the [[fraudulent]] [[policy]], the [[bold]] federale who looks like he was typecast as the [[Veracruz]] in a Hollywood movie from the 1940s. [[Whatsoever]] passably [[done]] but again nothing [[especial]].<[[ab]] /><[[ab]] />[[me]] thought the [[decisive]] villains were [[absolutely]] [[even]] done and [[precisely]] [[okay]] [[walked]]. By the [[finish]] of the [[theatre]] you [[absolutely]] [[smelled]] who the [[appropriate]] [[men]] were and weren't. There was an [[mental]] lift as the [[efficiently]] [[soiled]] [[folks]] [[learned]] their just [[desert]]. [[Markedly]] simplistic, but then you weren't [[looks]] [[Hamlets]], [[yeah]]? The only thing I [[spotted]] [[plainly]] [[disheartening]] was the [[steady]] [[chop]] to VDs daughter during the [[eventual]] fight [[screenplays]].<[[ab]] /><br />Not [[adverse]]. [[Never]] good. Passable 4.\n",
      "\n",
      "\n"
     ]
    },
    {
     "name": "stderr",
     "output_type": "stream",
     "text": []
    },
    {
     "name": "stdout",
     "output_type": "stream",
     "text": [
      "--------------------------------------------- Result 3 ---------------------------------------------\n",
      "[[Negative (60%)]] --> [[Positive (50%)]]\n",
      "\n",
      "its a [[totally]] average [[film]] with a few semi-alright action sequences that make the plot seem a little better and remind the viewer of the classic van dam films. parts of the plot don't make sense and seem to be added in to use up time. the end [[plot]] is that of a [[very]] [[basic]] type that doesn't leave the viewer [[guessing]] and any [[twists]] are obvious from the [[beginning]]. the [[end]] scene with the flask [[backs]] don't [[make]] [[sense]] as they are added in and seem to have [[little]] [[relevance]] to the [[history]] of van dam's [[character]]. not [[really]] worth [[watching]] again, [[bit]] disappointed in the [[end]] production, even though it is apparent it was [[shot]] on a [[low]] [[budget]] [[certain]] [[shots]] and [[sections]] in the [[film]] are of [[poor]] [[directed]] [[quality]]\n",
      "\n",
      "its a [[sufficiently]] average [[teatro]] with a few semi-alright action sequences that make the plot seem a little better and remind the viewer of the classic van dam films. parts of the plot don't make sense and seem to be added in to use up time. the end [[plotted]] is that of a [[significantly]] [[decisive]] type that doesn't leave the viewer [[believing]] and any [[folds]] are obvious from the [[launches]]. the [[closure]] scene with the flask [[argues]] don't [[making]] [[feel]] as they are added in and seem to have [[smaller]] [[validity]] to the [[narratives]] of van dam's [[idiosyncrasies]]. not [[frankly]] worth [[believe]] again, [[piece]] disappointed in the [[discontinue]] production, even though it is apparent it was [[kills]] on a [[weaker]] [[estimates]] [[sure]] [[shooters]] and [[divisions]] in the [[theatre]] are of [[insufficient]] [[wore]] [[qualifications]]\n",
      "\n",
      "\n"
     ]
    },
    {
     "name": "stderr",
     "output_type": "stream",
     "text": []
    },
    {
     "name": "stdout",
     "output_type": "stream",
     "text": [
      "--------------------------------------------- Result 4 ---------------------------------------------\n",
      "[[Negative (65%)]] --> [[Positive (50%)]]\n",
      "\n",
      "[[STAR]] [[RATING]]: ***** [[Saturday]] Night **** [[Friday]] [[Night]] *** [[Friday]] [[Morning]] ** [[Sunday]] [[Night]] * [[Monday]] [[Morning]] <[[br]] /><[[br]] />[[Former]] [[New]] Orleans [[homicide]] [[cop]] Jack Robideaux ([[Jean]] Claude Van Damme) is re-assigned to [[Columbus]], a [[small]] but [[violent]] [[town]] in [[Mexico]] to [[help]] the [[police]] there with their [[efforts]] to [[stop]] a [[major]] heroin smuggling [[operation]] into their [[town]]. The [[culprits]] [[turn]] out to [[be]] ex-military, [[lead]] by former [[commander]] [[Benjamin]] [[Meyers]] ([[Stephen]] [[Lord]], otherwise [[known]] as Jase from [[East]] Enders) who is [[using]] a [[special]] [[method]] he [[learned]] in [[Afghanistan]] to [[fight]] off his [[opponents]]. [[But]] Jack [[has]] a more [[personal]] [[reason]] for [[taking]] him down, that [[draws]] the [[two]] [[men]] into an explosive [[final]] [[showdown]] where only one [[will]] [[walk]] [[away]] [[alive]].<[[br]] /><[[br]] />[[After]] Until [[Death]], Van Damme [[appeared]] to [[be]] on a [[high]], showing he could [[make]] the [[best]] [[straight]] to video [[films]] in the [[action]] [[market]]. While that was a [[far]] more [[drama]] [[oriented]] [[film]], with The [[Shepherd]] he [[has]] returned to the high-kicking, no brainer action that first made him famous and [[has]] [[sadly]] [[produced]] his [[worst]] [[film]] since [[Derailed]]. It's nowhere near as [[bad]] as that [[film]], but what I [[said]] [[still]] stands.<[[br]] /><br />A dull, predictable film, with [[very]] little in the [[way]] of any [[exciting]] [[action]]. What little there is [[mainly]] [[consists]] of some [[limp]] [[fight]] scenes, [[trying]] to [[look]] [[cool]] and [[trendy]] with some [[cheap]] slo-mo/[[sped]] up [[effects]] [[added]] to them that sadly [[instead]] make them look more [[desperate]]. [[Being]] a Mexican [[set]] [[film]], [[director]] Isaac Florentine has [[tried]] to [[give]] the [[film]] a Robert Rodriguez/Desperado [[sort]] of feel, but this only adds to the [[desperation]].<[[br]] /><[[br]] />[[VD]] [[gives]] a particularly uninspired [[performance]] and [[given]] he's never been a [[Robert]] [[De]] [[Niro]] sort of [[actor]], that can't [[be]] [[good]]. [[As]] the [[villain]], [[Lord]] shouldn't [[expect]] to [[leave]] the beeb [[anytime]] soon. [[He]] [[gets]] little [[dialogue]] at the [[beginning]] as he struggles to [[muster]] an American [[accent]] but [[gets]] [[mysteriously]] better towards the end. [[All]] the [[supporting]] [[cast]] are equally [[bland]], and [[do]] nothing to raise the [[films]] spirits at all.<[[br]] /><br />[[This]] is one [[shepherd]] that's [[strayed]] right from the [[flock]]. *\n",
      "\n",
      "[[SING]] [[DOZENS]]: ***** [[Mon]] Night **** [[Wed]] [[Darkness]] *** [[Wednesday]] [[Hi]] ** [[Sabbath]] [[Evenings]] * [[Mondays]] [[Tomorrow]] <[[ab]] /><[[ab]] />[[Antigua]] [[Nova]] Orleans [[lethal]] [[detectives]] Jack Robideaux ([[Giovanni]] Claude Van Damme) is re-assigned to [[Montreal]], a [[marginal]] but [[abrupt]] [[municipality]] in [[Juarez]] to [[attend]] the [[agent]] there with their [[tries]] to [[quit]] a [[leading]] heroin smuggling [[transaction]] into their [[village]]. The [[crooks]] [[transforming]] out to [[arrive]] ex-military, [[promotions]] by former [[lieutenant]] [[Isaiah]] [[Mccabe]] ([[Etienne]] [[Gods]], otherwise [[acknowledge]] as Jase from [[Orient]] Enders) who is [[exploited]] a [[specialized]] [[patterns]] he [[heard]] in [[Kabul]] to [[tackle]] off his [[competitor]]. [[Yet]] Jack [[gets]] a more [[customized]] [[argument]] for [[elect]] him down, that [[relies]] the [[three]] [[masculine]] into an explosive [[definitive]] [[matches]] where only one [[dedication]] [[foot]] [[abroad]] [[perennial]].<[[brit]] /><[[ab]] />[[Until]] Until [[Casualties]], Van Damme [[sounded]] to [[fi]] on a [[major]], showing he could [[making]] the [[exemplary]] [[resultant]] to video [[movies]] in the [[pursuits]] [[marketplace]]. While that was a [[radically]] more [[teatro]] [[emphasis]] [[cinematographer]], with The [[Berger]] he [[maintains]] returned to the high-kicking, no brainer action that first made him famous and [[had]] [[painfully]] [[presented]] his [[finest]] [[cinematography]] since [[Fizzled]]. It's nowhere near as [[defective]] as that [[filmmaking]], but what I [[declaring]] [[equally]] stands.<[[brit]] /><br />A dull, predictable film, with [[too]] little in the [[shapes]] of any [[dazzling]] [[interventions]]. What little there is [[actually]] [[constitutes]] of some [[weak]] [[struggling]] scenes, [[endeavour]] to [[glance]] [[chilled]] and [[classy]] with some [[cheaper]] slo-mo/[[hurrying]] up [[implications]] [[containing]] to them that sadly [[elsewhere]] make them look more [[upset]]. [[Ongoing]] a Mexican [[establishes]] [[panorama]], [[administrators]] Isaac Florentine has [[struggled]] to [[deliver]] the [[theaters]] a Robert Rodriguez/Desperado [[trier]] of feel, but this only adds to the [[hopeless]].<[[ab]] /><[[brit]] />[[DV]] [[offerings]] a particularly uninspired [[performing]] and [[submitted]] he's never been a [[Roberta]] [[Onto]] [[Deniro]] sort of [[actress]], that can't [[coming]] [[satisfactory]]. [[Since]] the [[rotten]], [[Jesus]] shouldn't [[expecting]] to [[resignation]] the beeb [[elsewhere]] soon. [[His]] [[attain]] little [[discussing]] at the [[initiates]] as he struggles to [[convened]] an American [[emphasis]] but [[receive]] [[unexpectedly]] better towards the end. [[Each]] the [[assistance]] [[blown]] are equally [[lifeless]], and [[am]] nothing to raise the [[cine]] spirits at all.<[[brit]] /><br />[[These]] is one [[clergyman]] that's [[skidded]] right from the [[posse]]. *\n",
      "\n",
      "\n"
     ]
    },
    {
     "name": "stderr",
     "output_type": "stream",
     "text": []
    },
    {
     "name": "stdout",
     "output_type": "stream",
     "text": [
      "--------------------------------------------- Result 5 ---------------------------------------------\n",
      "[[Negative (62%)]] --> [[Positive (50%)]]\n",
      "\n",
      "[[First]] off [[let]] me [[say]], [[If]] you haven't [[enjoyed]] a [[Van]] [[Damme]] [[movie]] [[since]] bloodsport, you [[probably]] [[will]] not like this [[movie]]. [[Most]] of these [[movies]] may not [[have]] the [[best]] [[plots]] or [[best]] [[actors]] but I [[enjoy]] these [[kinds]] of [[movies]] for what they are. This [[movie]] is [[much]] [[better]] than any of the [[movies]] the other [[action]] [[guys]] (Segal and [[Dolph]]) [[have]] [[thought]] about putting out the [[past]] [[few]] [[years]]. Van Damme is [[good]] in the [[movie]], the [[movie]] is only [[worth]] [[watching]] to [[Van]] [[Damme]] [[fans]]. It is not as [[good]] as [[Wake]] of [[Death]] (which i [[highly]] recommend to anyone of [[likes]] Van Damme) or In [[hell]] but, in my [[opinion]] it's worth [[watching]]. [[It]] [[has]] the same [[type]] of [[feel]] to it as Nowhere to [[Run]]. [[Good]] [[fun]] [[stuff]]!\n",
      "\n",
      "[[Early]] off [[gonna]] me [[talk]], [[Except]] you haven't [[cared]] a [[From]] [[Mah]] [[scene]] [[unless]] bloodsport, you [[undoubtedly]] [[yearning]] not like this [[moviemaking]]. [[More]] of these [[cinematographic]] may not [[fi]] the [[exemplary]] [[charting]] or [[maxima]] [[agents]] but I [[pleasures]] these [[guy]] of [[teatro]] for what they are. This [[cine]] is [[noticeably]] [[enhancement]] than any of the [[drama]] the other [[procedures]] [[fellers]] (Segal and [[Marella]]) [[receive]] [[thoughts]] about putting out the [[antigua]] [[restrained]] [[seniors]]. Van Damme is [[satisfactory]] in the [[photograph]], the [[theatrical]] is only [[pena]] [[glance]] to [[Vehicles]] [[Mah]] [[partisans]]. It is not as [[guten]] as [[Arousing]] of [[Mortality]] (which i [[remarkably]] recommend to anyone of [[iove]] Van Damme) or In [[goddamned]] but, in my [[believing]] it's worth [[watch]]. [[His]] [[ha]] the same [[whatsoever]] of [[thinking]] to it as Nowhere to [[Operate]]. [[Presentable]] [[laughs]] [[something]]!\n",
      "\n",
      "\n"
     ]
    },
    {
     "name": "stderr",
     "output_type": "stream",
     "text": []
    },
    {
     "name": "stdout",
     "output_type": "stream",
     "text": [
      "--------------------------------------------- Result 6 ---------------------------------------------\n",
      "[[Negative (63%)]] --> [[Positive (50%)]]\n",
      "\n",
      "I had [[high]] [[hopes]] for this one until they changed the [[name]] to '[[The]] [[Shepherd]] : [[Border]] Patrol, the lamest [[movie]] [[name]] ever, what was [[wrong]] with just 'The Shepherd'. [[This]] is a by the [[numbers]] [[action]] [[flick]] that tips its [[hat]] at [[many]] classic Van Damme [[films]]. There is a [[nice]] bit of [[action]] in a [[bar]] which [[reminded]] me of hard [[target]] and [[universal]] soldier but directed with no [[intensity]] or flair which is a [[shame]]. There is one [[great]] line about 'being p*ss [[drunk]] and [[carrying]] a rabbit' and some OK [[action]] [[scenes]] [[let]] down by the cheapness of it all. A [[lot]] of the times the [[dialogue]] doesn't [[match]] the [[characters]] mouth and the [[stunt]] men [[fall]] down dead a split [[second]] before even being [[shot]]. The end [[fight]] is one of the [[better]] Van Damme [[fights]] except the Director [[tries]] to [[go]] a [[bit]] too [[John]] [[Woo]] and [[fails]] also [[introducing]] [[flashbacks]] which no one [[really]] cares about just gets in the [[way]] of the action which is the whole [[point]] of a van Damme [[film]].<br /><br />Not [[good]], not [[bad]], just [[average]] generic [[action]].\n",
      "\n",
      "I had [[alta]] [[expectations]] for this one until they changed the [[appointments]] to '[[Both]] [[Clergyman]] : [[Edge]] Patrol, the lamest [[cinematographer]] [[denote]] ever, what was [[illegitimate]] with just 'The Shepherd'. [[These]] is a by the [[figurines]] [[interventions]] [[gestures]] that tips its [[bonnet]] at [[manifold]] classic Van Damme [[teatro]]. There is a [[buena]] bit of [[proceedings]] in a [[barre]] which [[mention]] me of hard [[focus]] and [[endemic]] soldier but directed with no [[breadth]] or flair which is a [[disgrace]]. There is one [[noteworthy]] line about 'being p*ss [[vodka]] and [[bears]] a rabbit' and some OK [[endeavours]] [[imagery]] [[afford]] down by the cheapness of it all. A [[alot]] of the times the [[dialog]] doesn't [[pairs]] the [[qualities]] mouth and the [[ruse]] men [[declined]] down dead a split [[minute]] before even being [[ceasefire]]. The end [[conflict]] is one of the [[sharper]] Van Damme [[hostilities]] except the Director [[ambition]] to [[partir]] a [[bitten]] too [[Johns]] [[Xu]] and [[lacks]] also [[presenting]] [[remembered]] which no one [[efficiently]] cares about just gets in the [[means]] of the action which is the whole [[issue]] of a van Damme [[cinematographers]].<br /><br />Not [[satisfactory]], not [[adverse]], just [[medias]] generic [[endeavors]].\n",
      "\n",
      "\n"
     ]
    },
    {
     "name": "stderr",
     "output_type": "stream",
     "text": []
    },
    {
     "name": "stdout",
     "output_type": "stream",
     "text": [
      "--------------------------------------------- Result 7 ---------------------------------------------\n",
      "[[Negative (63%)]] --> [[Positive (50%)]]\n",
      "\n",
      "[[Isaac]] Florentine has [[made]] some of the [[best]] [[western]] Martial [[Arts]] [[action]] [[movies]] ever [[produced]]. [[In]] [[particular]] US Seals 2, [[Cold]] [[Harvest]], [[Special]] [[Forces]] and [[Undisputed]] 2 are all [[action]] classics. You can [[tell]] Isaac [[has]] a [[real]] [[passion]] for the [[genre]] and his [[films]] are [[always]] eventful, [[creative]] and [[sharp]] [[affairs]], with some of the [[best]] [[fight]] [[sequences]] an [[action]] fan could [[hope]] for. In [[particular]] he [[has]] [[found]] a muse with Scott Adkins, as [[talented]] an [[actor]] and [[action]] [[performer]] as you could [[hope]] for. [[This]] is [[borne]] out with Special Forces and [[Undisputed]] 2, but unfortunately The Shepherd just doesn't [[live]] up to their [[abilities]].<[[br]] /><[[br]] />There is no [[doubt]] that JCVD looks better here fight-wise than he [[has]] [[done]] in years, [[especially]] in the [[fight]] he [[has]] (for [[pretty]] [[much]] no [[reason]]) in a [[prison]] [[cell]], and in the [[final]] [[showdown]] with Scott, but look in his [[eyes]]. JCVD [[seems]] to [[be]] [[dead]] inside. There's nothing in his [[eyes]] at all. It's [[like]] he just doesn't care about anything throughout the whole [[film]]. And this is the leading [[man]].<[[br]] /><br />There are other [[dodgy]] [[aspects]] to the [[film]], script-wise and visually, but the [[main]] [[problem]] is that you are [[utterly]] [[unable]] to [[empathise]] with the [[hero]] of the [[film]]. A [[genuine]] [[shame]] as I [[know]] we all [[wanted]] this [[film]] to [[be]] as [[special]] as it [[genuinely]] could [[have]] been. There are some [[good]] [[bits]], mostly the [[action]] [[scenes]] themselves. [[This]] [[film]] [[had]] a [[terrific]] [[director]] and [[action]] [[choreographer]], and an [[awesome]] [[opponent]] for JCVD to [[face]] down. This could have been the one to [[bring]] the veteran [[action]] [[star]] back up to scratch in the balls-out [[action]] movie stakes.<br /><br />Sincerely a shame that this didn't happen.\n",
      "\n",
      "[[Isaiah]] Florentine has [[rendered]] some of the [[improved]] [[northwestern]] Martial [[Artwork]] [[tasks]] [[image]] ever [[authored]]. [[Under]] [[exclusive]] US Seals 2, [[Froze]] [[Collection]], [[Devoted]] [[Troop]] and [[Unquestioned]] 2 are all [[proceedings]] classics. You can [[declaring]] Isaac [[ha]] a [[substantive]] [[enthusiasm]] for the [[class]] and his [[productions]] are [[evenly]] eventful, [[imaginary]] and [[stark]] [[themes]], with some of the [[upper]] [[struggles]] [[sequence]] an [[operating]] fan could [[trusts]] for. In [[characteristic]] he [[maintains]] [[commented]] a muse with Scott Adkins, as [[artists]] an [[representative]] and [[proceedings]] [[interpreter]] as you could [[expectation]] for. [[That]] is [[expense]] out with Special Forces and [[Unquestioned]] 2, but unfortunately The Shepherd just doesn't [[subsistence]] up to their [[qualification]].<[[brit]] /><[[brit]] />There is no [[suspect]] that JCVD looks better here fight-wise than he [[ai]] [[been]] in years, [[overwhelmingly]] in the [[fighter]] he [[ap]] (for [[sweet]] [[plenty]] no [[ground]]) in a [[jail]] [[heap]], and in the [[semifinal]] [[faces]] with Scott, but look in his [[gazes]]. JCVD [[appears]] to [[se]] [[die]] inside. There's nothing in his [[vision]] at all. It's [[amour]] he just doesn't care about anything throughout the whole [[cinematographer]]. And this is the leading [[mating]].<[[ab]] /><br />There are other [[iffy]] [[component]] to the [[theatres]], script-wise and visually, but the [[primordial]] [[annoyance]] is that you are [[sincerely]] [[weak]] to [[trivialize]] with the [[rider]] of the [[cinematography]]. A [[realities]] [[humiliated]] as I [[acknowledge]] we all [[ought]] this [[filmmaking]] to [[es]] as [[sole]] as it [[plainly]] could [[receives]] been. There are some [[improved]] [[smithereens]], mostly the [[stepping]] [[pictured]] themselves. [[These]] [[filming]] [[eu]] a [[formidable]] [[trustees]] and [[working]] [[baryshnikov]], and an [[striking]] [[compete]] for JCVD to [[addressing]] down. This could have been the one to [[translated]] the veteran [[interventions]] [[sung]] back up to scratch in the balls-out [[operate]] movie stakes.<br /><br />Sincerely a shame that this didn't happen.\n",
      "\n",
      "\n"
     ]
    },
    {
     "name": "stderr",
     "output_type": "stream",
     "text": []
    },
    {
     "name": "stdout",
     "output_type": "stream",
     "text": [
      "--------------------------------------------- Result 8 ---------------------------------------------\n",
      "[[Negative (63%)]] --> [[Positive (50%)]]\n",
      "\n",
      "[[It]] [[actually]] [[pains]] me to say it, but this [[movie]] was [[horrible]] on [[every]] [[level]]. The [[blame]] [[does]] not [[lie]] [[entirely]] with [[Van]] Damme as you can [[see]] he [[tried]] his [[best]], but let's [[face]] it, he's almost [[fifty]], how [[much]] more can you [[ask]] of him? [[I]] [[find]] it [[so]] [[hard]] to [[believe]] that the same [[people]] who [[put]] [[together]] Undisputed 2; [[arguably]] the [[best]] ([[western]]) martial [[arts]] [[movie]] in [[years]], [[created]] this. [[Everything]] from the [[plot]], to the dialog, to the [[editing]], to the [[overall]] [[acting]] was just [[horribly]] [[put]] [[together]] and in [[many]] [[cases]] outright [[boring]] and [[nonsensical]]. Scott Adkins who's fight [[scenes]] [[seemed]] more [[like]] a [[demo]] [[reel]], was also [[terribly]] underused and not even the [[main]] villain which is such a [[shame]] [[because]] 1) [[He]] is more than [[capable]] of playing that [[role]] and 2) The [[actual]] [[main]] [[villain]] was not only not [[intimidating]] at all but also [[quite]] [[annoying]]. [[Again]], not [[blaming]] [[Van]] Damme. I [[will]] [[always]] [[be]] a [[fan]], but [[avoid]] this one.\n",
      "\n",
      "[[He]] [[undoubtedly]] [[hurts]] me to say it, but this [[movies]] was [[terrible]] on [[all]] [[grades]]. The [[condemnation]] [[va]] not [[inhabit]] [[precisely]] with [[Vans]] Damme as you can [[look]] he [[tries]] his [[upper]], but let's [[fighting]] it, he's almost [[sixty]], how [[plenty]] more can you [[motions]] of him? [[me]] [[attain]] it [[too]] [[stiff]] to [[seeing]] that the same [[folks]] who [[filed]] [[along]] Undisputed 2; [[visibly]] the [[higher]] ([[northwestern]]) martial [[performer]] [[picture]] in [[aging]], [[generating]] this. [[Entirety]] from the [[lots]], to the dialog, to the [[changes]], to the [[ensemble]] [[behaved]] was just [[surprisingly]] [[posed]] [[collectively]] and in [[crowd]] [[proceedings]] outright [[infuriating]] and [[needless]]. Scott Adkins who's fight [[images]] [[considered]] more [[analog]] a [[exhibitions]] [[roller]], was also [[hugely]] underused and not even the [[major]] villain which is such a [[disgrace]] [[as]] 1) [[His]] is more than [[probable]] of playing that [[functioning]] and 2) The [[substantive]] [[major]] [[wicked]] was not only not [[threatens]] at all but also [[sufficiently]] [[disappointing]]. [[Tad]], not [[criticising]] [[Pickup]] Damme. I [[desiring]] [[steadily]] [[worden]] a [[ventilated]], but [[precludes]] this one.\n",
      "\n",
      "\n"
     ]
    },
    {
     "name": "stderr",
     "output_type": "stream",
     "text": []
    },
    {
     "name": "stdout",
     "output_type": "stream",
     "text": [
      "--------------------------------------------- Result 9 ---------------------------------------------\n",
      "[[Negative (61%)]] --> [[Positive (50%)]]\n",
      "\n",
      "[[Technically]] I'am a [[Van]] [[Damme]] [[Fan]], or [[I]] was. this [[movie]] is [[so]] [[bad]] that [[I]] [[hated]] myself for [[wasting]] those 90 [[minutes]]. [[Do]] not [[let]] the [[name]] Isaac Florentine (Undisputed [[II]]) fool you, [[I]] [[had]] [[big]] [[hopes]] for this one, [[depending]] on what [[I]] [[saw]] in ([[Undisputed]] [[II]]), [[man]].. was [[I]] [[wrong]] ??! all [[action]] [[fans]] [[wanted]] a [[big]] [[comeback]] for the [[classic]] [[action]] [[hero]], but i guess we [[wont]] [[be]] [[able]] to [[see]] that [[soon]], as our [[hero]] [[keep]] [[coming]] with those ([[going]] -to-a-border - far-away-town-and -[[kill]] -the-bad-guys- than-comeback- [[home]]) [[movies]] I [[mean]] for God's [[sake]], we are in 2008, and they [[insist]] on [[doing]] those disappointing [[movies]] on [[every]] [[level]]. [[Why]] ??!!! [[Do]] your [[self]] a [[favor]], [[skip]] it.. seriously.\n",
      "\n",
      "[[Ideally]] I'am a [[Trucks]] [[Mah]] [[Cone]], or [[me]] was. this [[teatro]] is [[whereby]] [[mala]] that [[me]] [[hatred]] myself for [[lose]] those 90 [[mn]]. [[Does]] not [[letting]] the [[appointing]] Isaac Florentine (Undisputed [[SECOND]]) fool you, [[me]] [[ai]] [[wholesale]] [[expect]] for this one, [[compliant]] on what [[me]] [[realised]] in ([[Unquestioned]] [[IV]]), [[comrade]].. was [[me]] [[unseemly]] ??! all [[moves]] [[gamer]] [[gonna]] a [[extensive]] [[return]] for the [[distinctive]] [[procedures]] [[heroic]], but i guess we [[theyre]] [[coming]] [[proficient]] to [[considering]] that [[immediately]], as our [[heroes]] [[preserved]] [[arriving]] with those ([[will]] -to-a-border - far-away-town-and -[[kills]] -the-bad-guys- than-comeback- [[casa]]) [[filmmakers]] I [[midst]] for God's [[interest]], we are in 2008, and they [[tensions]] on [[rendering]] those disappointing [[productions]] on [[whatsoever]] [[capa]]. [[How]] ??!!! [[Ai]] your [[automatic]] a [[prefer]], [[leaping]] it.. seriously.\n",
      "\n",
      "\n"
     ]
    },
    {
     "name": "stderr",
     "output_type": "stream",
     "text": [
      "[Succeeded / Failed / Skipped / Total] 9 / 1 / 0 / 10: 100%|██████████| 10/10 [41:32<00:00, 249.24s/it]"
     ]
    },
    {
     "name": "stdout",
     "output_type": "stream",
     "text": [
      "--------------------------------------------- Result 10 ---------------------------------------------\n",
      "[[Negative (60%)]] --> [[[FAILED]]]\n",
      "\n",
      "Honestly awful film, bad editing, awful lighting, dire dialog and scrappy screenplay.<br /><br />The lighting at is so bad there's moments you can't even see what's going on, I even tried to playing with the contrast and brightness so I could see something but that didn't help.<br /><br />They must have found the script in a bin, the character development is just as awful and while you hardly expect much from a Jean-Claude Van Damme film this one manages to hit an all time low. You can't even laugh at the cheesy'ness.<br /><br />The directing and editing are also terrible, the whole film follows an extremely tired routine and fails at every turn as it bumbles through the plot that is so weak it's just unreal.<br /><br />There's not a lot else to say other than it's really bad and nothing like Jean-Claude Van Damme's earlier work which you could enjoy.<br /><br />Avoid like the plaque, frankly words fail me in condemning this \"film\".\n",
      "\n",
      "\n",
      "\n",
      "+-------------------------------+--------+\n",
      "| Attack Results                |        |\n",
      "+-------------------------------+--------+\n",
      "| Number of successful attacks: | 9      |\n",
      "| Number of failed attacks:     | 1      |\n",
      "| Number of skipped attacks:    | 0      |\n",
      "| Original accuracy:            | 100.0% |\n",
      "| Accuracy under attack:        | 10.0%  |\n",
      "| Attack success rate:          | 90.0%  |\n",
      "| Average perturbed word %:     | 38.91% |\n",
      "| Average num. words per input: | 202.2  |\n",
      "| Avg num queries:              | 2299.6 |\n",
      "+-------------------------------+--------+\n",
      "Original: I love sci-fi and am willing to put up with a lot. Sci-fi movies/TV are usually underfunded, under-appreciated and misunderstood. I tried to like this, I really did, but it is to good TV sci-fi as Babylon 5 is to Star Trek (the original). Silly prosthetics, cheap cardboard sets, stilted dialogues, CG that doesn't match the background, and painfully one-dimensional characters cannot be overcome with a 'sci-fi' setting. (I'm sure there are those of you out there who think Babylon 5 is good sci-fi TV. It's not. It's clichéd and uninspiring.) While US viewers might like emotion and character development, sci-fi is a genre that does not take itself seriously (cf. Star Trek). It may treat important issues, yet not as a serious philosophy. It's really difficult to care about the characters here as they are not simply foolish, just missing a spark of life. Their actions and reactions are wooden and predictable, often painful to watch. The makers of Earth KNOW it's rubbish as they have to always say \"Gene Roddenberry's Earth...\" otherwise people would not continue watching. Roddenberry's ashes must be turning in their orbit as this dull, cheap, poorly edited (watching it without advert breaks really brings this home) trudging Trabant of a show lumbers into space. Spoiler. So, kill off a main character. And then bring him back as another actor. Jeeez! Dallas all over again.\n",
      "Adversarial: I likes sci-fi and am willing to put up with a lot. Sci-fi movies/FABIO are repeatedly underfunded, under-appreciated and interpretation. I trying to like this, me plainly know, but it is to alright BUCHANAN sci-fi as Babylon 5 is to Celebrities Altitudes (the native). Dummy orthopedic, cheap cardboard determines, diction negotiation, FIM that doesn't game the ambient, and brutally one-dimensional characters cannot is resolve with a 'sci-fi' establish. (I'm ensures there are those of you out there who concept Assyria 5 is adequate sci-fi NUNEZ. It's not. It's bland and unappealing.) Upon VERSUS spectator might like emotion and specifications progress, sci-fi is a gender that could not takes itself bitterly (fc. Star Trek). It may processing main lawsuit, yet not as a sizable existentialism. It's undoubtedly complex to caring about the characters here as they are not plainly irrational, just parti a provoke of subsistence. Votre proceedings and reply are wooden and anticipated, traditionally stiff to oversees. Both manufacturing of Land ACKNOWLEDGING it's crock as they have to evenly declare \"Locus Roddenberry's Terre...\" otherwise personnel would not continuation glancing. Roddenberry's dust must sean cornering in their trajectory as this dull, tania, marginally publishing (witnessing it without promotional breaks fully brings this home) gallivanting Trabant of a exhibitions lumbers into spacing. Spoiler. Than, matan off a underlying idiosyncrasies. And then furnish him back as another actor. Jeeez! Dallas all over again.\n",
      "--------------------------------------------------\n",
      "Original: Worth the entertainment value of a rental, especially if you like action movies. This one features the usual car chases, fights with the great Van Damme kick style, shooting battles with the 40 shell load shotgun, and even terrorist style bombs. All of this is entertaining and competently handled but there is nothing that really blows you away if you've seen your share before.<br /><br />The plot is made interesting by the inclusion of a rabbit, which is clever but hardly profound. Many of the characters are heavily stereotyped -- the angry veterans, the terrified illegal aliens, the crooked cops, the indifferent feds, the bitchy tough lady station head, the crooked politician, the fat federale who looks like he was typecast as the Mexican in a Hollywood movie from the 1940s. All passably acted but again nothing special.<br /><br />I thought the main villains were pretty well done and fairly well acted. By the end of the movie you certainly knew who the good guys were and weren't. There was an emotional lift as the really bad ones got their just deserts. Very simplistic, but then you weren't expecting Hamlet, right? The only thing I found really annoying was the constant cuts to VDs daughter during the last fight scene.<br /><br />Not bad. Not good. Passable 4.\n",
      "Adversarial: Worth the amusing worth of a rental, especially if you enjoy operating cinematographic. That one characters the martial carts chase, struggles with the brilliant Van Damme beneath layout, kills hostilities with the 40 missile shipment fusiliers, and even qaida designing bombs. Any of this is distracting and competently transformed but there is nothing that vitally shattering you remotely if you've noted your portion before.<br /><ab />The plotted is were seductive by the inscribe of a rabbit, which is brightest but scarcely profound. Variety of the characters are noticeably cliched -- the exasperated fighter, the outraged irregular foreigner, the fraudulent cp, the marble fbl, the vaca violent consort stands chairperson, the fraudulent policy, the bold federale who looks like he was typecast as the Veracruz in a Hollywood movie from the 1940s. Whatsoever passably done but again nothing especial.<ab /><ab />me thought the decisive villains were absolutely even done and precisely okay walked. By the finish of the theatre you absolutely smelled who the appropriate men were and weren't. There was an mental lift as the efficiently soiled folks learned their just desert. Markedly simplistic, but then you weren't looks Hamlets, yeah? The only thing I spotted plainly disheartening was the steady chop to VDs daughter during the eventual fight screenplays.<ab /><br />Not adverse. Never good. Passable 4.\n",
      "--------------------------------------------------\n",
      "Original: its a totally average film with a few semi-alright action sequences that make the plot seem a little better and remind the viewer of the classic van dam films. parts of the plot don't make sense and seem to be added in to use up time. the end plot is that of a very basic type that doesn't leave the viewer guessing and any twists are obvious from the beginning. the end scene with the flask backs don't make sense as they are added in and seem to have little relevance to the history of van dam's character. not really worth watching again, bit disappointed in the end production, even though it is apparent it was shot on a low budget certain shots and sections in the film are of poor directed quality\n",
      "Adversarial: its a sufficiently average teatro with a few semi-alright action sequences that make the plot seem a little better and remind the viewer of the classic van dam films. parts of the plot don't make sense and seem to be added in to use up time. the end plotted is that of a significantly decisive type that doesn't leave the viewer believing and any folds are obvious from the launches. the closure scene with the flask argues don't making feel as they are added in and seem to have smaller validity to the narratives of van dam's idiosyncrasies. not frankly worth believe again, piece disappointed in the discontinue production, even though it is apparent it was kills on a weaker estimates sure shooters and divisions in the theatre are of insufficient wore qualifications\n",
      "--------------------------------------------------\n",
      "Original: STAR RATING: ***** Saturday Night **** Friday Night *** Friday Morning ** Sunday Night * Monday Morning <br /><br />Former New Orleans homicide cop Jack Robideaux (Jean Claude Van Damme) is re-assigned to Columbus, a small but violent town in Mexico to help the police there with their efforts to stop a major heroin smuggling operation into their town. The culprits turn out to be ex-military, lead by former commander Benjamin Meyers (Stephen Lord, otherwise known as Jase from East Enders) who is using a special method he learned in Afghanistan to fight off his opponents. But Jack has a more personal reason for taking him down, that draws the two men into an explosive final showdown where only one will walk away alive.<br /><br />After Until Death, Van Damme appeared to be on a high, showing he could make the best straight to video films in the action market. While that was a far more drama oriented film, with The Shepherd he has returned to the high-kicking, no brainer action that first made him famous and has sadly produced his worst film since Derailed. It's nowhere near as bad as that film, but what I said still stands.<br /><br />A dull, predictable film, with very little in the way of any exciting action. What little there is mainly consists of some limp fight scenes, trying to look cool and trendy with some cheap slo-mo/sped up effects added to them that sadly instead make them look more desperate. Being a Mexican set film, director Isaac Florentine has tried to give the film a Robert Rodriguez/Desperado sort of feel, but this only adds to the desperation.<br /><br />VD gives a particularly uninspired performance and given he's never been a Robert De Niro sort of actor, that can't be good. As the villain, Lord shouldn't expect to leave the beeb anytime soon. He gets little dialogue at the beginning as he struggles to muster an American accent but gets mysteriously better towards the end. All the supporting cast are equally bland, and do nothing to raise the films spirits at all.<br /><br />This is one shepherd that's strayed right from the flock. *\n",
      "Adversarial: SING DOZENS: ***** Mon Night **** Wed Darkness *** Wednesday Hi ** Sabbath Evenings * Mondays Tomorrow <ab /><ab />Antigua Nova Orleans lethal detectives Jack Robideaux (Giovanni Claude Van Damme) is re-assigned to Montreal, a marginal but abrupt municipality in Juarez to attend the agent there with their tries to quit a leading heroin smuggling transaction into their village. The crooks transforming out to arrive ex-military, promotions by former lieutenant Isaiah Mccabe (Etienne Gods, otherwise acknowledge as Jase from Orient Enders) who is exploited a specialized patterns he heard in Kabul to tackle off his competitor. Yet Jack gets a more customized argument for elect him down, that relies the three masculine into an explosive definitive matches where only one dedication foot abroad perennial.<brit /><ab />Until Until Casualties, Van Damme sounded to fi on a major, showing he could making the exemplary resultant to video movies in the pursuits marketplace. While that was a radically more teatro emphasis cinematographer, with The Berger he maintains returned to the high-kicking, no brainer action that first made him famous and had painfully presented his finest cinematography since Fizzled. It's nowhere near as defective as that filmmaking, but what I declaring equally stands.<brit /><br />A dull, predictable film, with too little in the shapes of any dazzling interventions. What little there is actually constitutes of some weak struggling scenes, endeavour to glance chilled and classy with some cheaper slo-mo/hurrying up implications containing to them that sadly elsewhere make them look more upset. Ongoing a Mexican establishes panorama, administrators Isaac Florentine has struggled to deliver the theaters a Robert Rodriguez/Desperado trier of feel, but this only adds to the hopeless.<ab /><brit />DV offerings a particularly uninspired performing and submitted he's never been a Roberta Onto Deniro sort of actress, that can't coming satisfactory. Since the rotten, Jesus shouldn't expecting to resignation the beeb elsewhere soon. His attain little discussing at the initiates as he struggles to convened an American emphasis but receive unexpectedly better towards the end. Each the assistance blown are equally lifeless, and am nothing to raise the cine spirits at all.<brit /><br />These is one clergyman that's skidded right from the posse. *\n",
      "--------------------------------------------------\n",
      "Original: First off let me say, If you haven't enjoyed a Van Damme movie since bloodsport, you probably will not like this movie. Most of these movies may not have the best plots or best actors but I enjoy these kinds of movies for what they are. This movie is much better than any of the movies the other action guys (Segal and Dolph) have thought about putting out the past few years. Van Damme is good in the movie, the movie is only worth watching to Van Damme fans. It is not as good as Wake of Death (which i highly recommend to anyone of likes Van Damme) or In hell but, in my opinion it's worth watching. It has the same type of feel to it as Nowhere to Run. Good fun stuff!\n",
      "Adversarial: Early off gonna me talk, Except you haven't cared a From Mah scene unless bloodsport, you undoubtedly yearning not like this moviemaking. More of these cinematographic may not fi the exemplary charting or maxima agents but I pleasures these guy of teatro for what they are. This cine is noticeably enhancement than any of the drama the other procedures fellers (Segal and Marella) receive thoughts about putting out the antigua restrained seniors. Van Damme is satisfactory in the photograph, the theatrical is only pena glance to Vehicles Mah partisans. It is not as guten as Arousing of Mortality (which i remarkably recommend to anyone of iove Van Damme) or In goddamned but, in my believing it's worth watch. His ha the same whatsoever of thinking to it as Nowhere to Operate. Presentable laughs something!\n",
      "--------------------------------------------------\n"
     ]
    },
    {
     "name": "stderr",
     "output_type": "stream",
     "text": [
      "\n"
     ]
    }
   ],
   "source": [
    "# Load pre-trained models for classification\n",
    "bert_model = BertForSequenceClassification.from_pretrained('bert-base-uncased', num_labels=2)\n",
    "electra_model = ElectraForSequenceClassification.from_pretrained('google/electra-base-discriminator', num_labels=2)\n",
    "\n",
    "# Define adversarial attack (TextFooler)\n",
    "#attack = TextFoolerJin2019.build(bert_model)\n",
    "\n",
    "#Adversarial Training Section\n",
    "\n",
    "# Wrap dataset in TextAttack format\n",
    "wrapped_model = HuggingFaceModelWrapper(bert_model, bert_tokenizer)\n",
    "\n",
    "# Create the attack\n",
    "attack = TextFoolerJin2019.build(wrapped_model)   \n",
    "attack.max_candidates = 10   # Increase the number of candidates\n",
    "attack.max_num_words = 5     # Allow more words to be perturbed\n",
    "attack.threshold = 0.3       # Lower the threshold for more perturbation\n",
    "\n",
    "# Use Hugging Face dataset (IMDB)\n",
    "huggingface_dataset = HuggingFaceDataset(\"imdb\", split='test')\n",
    "\n",
    "# Create the attacker\n",
    "attacker = Attacker(attack, huggingface_dataset)\n",
    "\n",
    "# Run the attack and generate adversarial examples\n",
    "results = attacker.attack_dataset()\n",
    "\n",
    "# Display a few adversarial examples\n",
    "for i in range(5):\n",
    "    print(\"Original:\", results[i].original_text())\n",
    "    print(\"Adversarial:\", results[i].perturbed_text())\n",
    "    print(\"-\" * 50)"
   ]
  },
  {
   "cell_type": "code",
   "execution_count": 6,
   "metadata": {},
   "outputs": [
    {
     "name": "stderr",
     "output_type": "stream",
     "text": [
      "Some weights of BertForSequenceClassification were not initialized from the model checkpoint at bert-base-uncased and are newly initialized: ['classifier.bias', 'classifier.weight']\n",
      "You should probably TRAIN this model on a down-stream task to be able to use it for predictions and inference.\n",
      "/Users/awang/anaconda3/lib/python3.11/site-packages/transformers/training_args.py:1568: FutureWarning: `evaluation_strategy` is deprecated and will be removed in version 4.46 of 🤗 Transformers. Use `eval_strategy` instead\n",
      "  warnings.warn(\n"
     ]
    },
    {
     "name": "stdout",
     "output_type": "stream",
     "text": [
      "Loaded trained BERT model from disk.\n"
     ]
    },
    {
     "data": {
      "application/vnd.jupyter.widget-view+json": {
       "model_id": "5285d847f32d4982837b8339d39b07d4",
       "version_major": 2,
       "version_minor": 0
      },
      "text/plain": [
       "  0%|          | 0/3125 [00:00<?, ?it/s]"
      ]
     },
     "metadata": {},
     "output_type": "display_data"
    }
   ],
   "source": [
    "bert_model = BertForSequenceClassification.from_pretrained('bert-base-uncased', num_labels=2)\n",
    "\n",
    "training_args = TrainingArguments(\n",
    "    output_dir=\"./results\",\n",
    "    evaluation_strategy=\"epoch\",\n",
    "    num_train_epochs=3,\n",
    "    per_device_train_batch_size=8,\n",
    "    per_device_eval_batch_size=8,\n",
    "    logging_dir=\"./logs\",\n",
    ")\n",
    "\n",
    "try:\n",
    "    bert_model = BertForSequenceClassification.from_pretrained(\".trained_models/bert_model\")\n",
    "    print(\"Loaded trained BERT model from disk.\")\n",
    "except:\n",
    "    # If not saved, tokenize and save\n",
    "    trainer_bert = Trainer(\n",
    "    model=bert_model,  # Fine-tune BERT model\n",
    "    args=training_args,\n",
    "    train_dataset=bert_encoded['train'],\n",
    "    eval_dataset=bert_encoded['test'],\n",
    "    )\n",
    "\n",
    "    trainer_bert.train()\n",
    "    trainer_bert.save_model(\".trained_models/bert_model\")\n",
    "    print(\"BERT model saved to disk.\")\n",
    "# # Check if the ELECTRA model is already saved\n",
    "# try:\n",
    "#     electra_model = ElectraForSequenceClassification.from_pretrained(\"./test/saved_model/\")\n",
    "\n",
    "#     print(\"Loaded trained ELECTRA model from disk.\")\n",
    "# except:\n",
    "#     # If not saved, tokenize and save\n",
    "#     trainer_electra = Trainer(\n",
    "#     model=electra_model,  # Fine-tune Electra model\n",
    "#     args=training_args,\n",
    "#     train_dataset=electra_encoded['train'],\n",
    "#     eval_dataset=electra_encoded['test'],\n",
    "#     )\n",
    "\n",
    "#     # Fine-tune Electra model\n",
    "#     trainer_electra.train()\n",
    "#     trainer_electra.save_model(\".trained_models/electra_model\")\n",
    "#     print(\"ELECTRA model saved to disk.\")\n",
    "\n",
    "\n",
    "# Evaluate the fine-tuned models\n",
    "\n",
    "\n",
    "trainer_bert = Trainer(\n",
    "    model=bert_model,  # Fine-tune BERT model\n",
    "    args=training_args,\n",
    "    train_dataset=bert_encoded['train'],\n",
    "    eval_dataset=bert_encoded['test'],\n",
    "    )\n",
    "\n",
    "bert_eval = trainer_bert.evaluate()\n",
    "# electra_eval = trainer_electra.evaluate()\n",
    "\n"
   ]
  },
  {
   "cell_type": "code",
   "execution_count": 7,
   "metadata": {},
   "outputs": [
    {
     "name": "stderr",
     "output_type": "stream",
     "text": [
      "textattack: Unknown if model of class <class 'transformers.models.bert.modeling_bert.BertForSequenceClassification'> compatible with goal function <class 'textattack.goal_functions.classification.untargeted_classification.UntargetedClassification'>.\n",
      "textattack: Loading \u001b[94mdatasets\u001b[0m dataset \u001b[94mimdb\u001b[0m, split \u001b[94mtest\u001b[0m.\n"
     ]
    },
    {
     "name": "stdout",
     "output_type": "stream",
     "text": [
      "Attack(\n",
      "  (search_method): GreedyWordSwapWIR(\n",
      "    (wir_method):  delete\n",
      "  )\n",
      "  (goal_function):  UntargetedClassification\n",
      "  (transformation):  WordSwapEmbedding(\n",
      "    (max_candidates):  50\n",
      "    (embedding):  WordEmbedding\n",
      "  )\n",
      "  (constraints): \n",
      "    (0): WordEmbeddingDistance(\n",
      "        (embedding):  WordEmbedding\n",
      "        (min_cos_sim):  0.5\n",
      "        (cased):  False\n",
      "        (include_unknown_words):  True\n",
      "        (compare_against_original):  True\n",
      "      )\n",
      "    (1): PartOfSpeech(\n",
      "        (tagger_type):  nltk\n",
      "        (tagset):  universal\n",
      "        (allow_verb_noun_swap):  True\n",
      "        (compare_against_original):  True\n",
      "      )\n",
      "    (2): UniversalSentenceEncoder(\n",
      "        (metric):  angular\n",
      "        (threshold):  0.840845057\n",
      "        (window_size):  15\n",
      "        (skip_text_shorter_than_window):  True\n",
      "        (compare_against_original):  False\n",
      "      )\n",
      "    (3): RepeatModification\n",
      "    (4): StopwordModification\n",
      "    (5): InputColumnModification(\n",
      "        (matching_column_labels):  ['premise', 'hypothesis']\n",
      "        (columns_to_ignore):  {'premise'}\n",
      "      )\n",
      "  (is_black_box):  True\n",
      ") \n",
      "\n"
     ]
    },
    {
     "name": "stderr",
     "output_type": "stream",
     "text": [
      "[Succeeded / Failed / Skipped / Total] 1 / 0 / 0 / 1:  10%|█         | 1/10 [00:32<04:49, 32.20s/it]"
     ]
    },
    {
     "name": "stdout",
     "output_type": "stream",
     "text": [
      "--------------------------------------------- Result 1 ---------------------------------------------\n",
      "[[Negative (100%)]] --> [[Positive (97%)]]\n",
      "\n",
      "I [[love]] sci-fi and am willing to put up with a lot. Sci-fi movies/TV are usually underfunded, under-appreciated and misunderstood. I tried to like this, I really did, but it is to good TV sci-fi as Babylon 5 is to Star Trek (the original). Silly prosthetics, cheap cardboard sets, [[stilted]] [[dialogues]], CG that doesn't match the background, and painfully one-dimensional [[characters]] cannot be overcome with a 'sci-fi' setting. (I'm sure there are those of you out there who [[think]] Babylon 5 is [[good]] sci-fi TV. It's not. It's clichéd and uninspiring.) While US viewers might like emotion and character development, sci-fi is a genre that does not [[take]] itself seriously (cf. Star Trek). It may treat important issues, yet not as a [[serious]] philosophy. It's really [[difficult]] to [[care]] about the [[characters]] here as they are not [[simply]] foolish, just missing a spark of life. Their actions and reactions are wooden and predictable, often painful to watch. The makers of Earth KNOW it's rubbish as they have to always say \"Gene Roddenberry's Earth...\" otherwise people would not continue watching. Roddenberry's ashes must be turning in their orbit as this [[dull]], cheap, poorly edited (watching it without advert breaks really brings this home) [[trudging]] Trabant of a show lumbers into space. Spoiler. So, [[kill]] off a main character. And then bring him back as another actor. Jeeez! Dallas all over again.\n",
      "\n",
      "I [[darling]] sci-fi and am willing to put up with a lot. Sci-fi movies/TV are usually underfunded, under-appreciated and misunderstood. I tried to like this, I really did, but it is to good TV sci-fi as Babylon 5 is to Star Trek (the original). Silly prosthetics, cheap cardboard sets, [[cliché]] [[speaks]], CG that doesn't match the background, and painfully one-dimensional [[featuring]] cannot be overcome with a 'sci-fi' setting. (I'm sure there are those of you out there who [[imagined]] Babylon 5 is [[exemplary]] sci-fi TV. It's not. It's clichéd and uninspiring.) While US viewers might like emotion and character development, sci-fi is a genre that does not [[wear]] itself seriously (cf. Star Trek). It may treat important issues, yet not as a [[utmost]] philosophy. It's really [[arduous]] to [[loving]] about the [[character]] here as they are not [[hardly]] foolish, just missing a spark of life. Their actions and reactions are wooden and predictable, often painful to watch. The makers of Earth KNOW it's rubbish as they have to always say \"Gene Roddenberry's Earth...\" otherwise people would not continue watching. Roddenberry's ashes must be turning in their orbit as this [[somber]], cheap, poorly edited (watching it without advert breaks really brings this home) [[toiling]] Trabant of a show lumbers into space. Spoiler. So, [[matan]] off a main character. And then bring him back as another actor. Jeeez! Dallas all over again.\n",
      "\n",
      "\n"
     ]
    },
    {
     "name": "stderr",
     "output_type": "stream",
     "text": [
      "[Succeeded / Failed / Skipped / Total] 2 / 0 / 0 / 2:  20%|██        | 2/10 [00:51<03:27, 25.96s/it]"
     ]
    },
    {
     "name": "stdout",
     "output_type": "stream",
     "text": [
      "--------------------------------------------- Result 2 ---------------------------------------------\n",
      "[[Negative (100%)]] --> [[Positive (70%)]]\n",
      "\n",
      "Worth the entertainment value of a rental, especially if you like action movies. This one features the usual car chases, fights with the great Van Damme kick style, shooting battles with the 40 shell load shotgun, and even terrorist style bombs. All of this is entertaining and competently handled but there is nothing that really blows you away if you've seen your share before.<br /><br />The plot is made interesting by the inclusion of a rabbit, which is clever but hardly profound. Many of the characters are heavily stereotyped -- the angry veterans, the terrified illegal aliens, the crooked cops, the indifferent feds, the bitchy tough lady station head, the crooked politician, the fat federale who looks like he was typecast as the Mexican in a Hollywood movie from the 1940s. All passably acted but again nothing special.<br /><br />I thought the main villains were pretty well done and fairly well acted. By the end of the [[movie]] you [[certainly]] [[knew]] who the good guys were and weren't. There was an emotional lift as the really bad ones got their just deserts. Very simplistic, but then you weren't expecting Hamlet, right? The only thing I [[found]] [[really]] annoying was the [[constant]] cuts to VDs [[daughter]] during the [[last]] [[fight]] [[scene]].<br /><[[br]] />Not bad. [[Not]] [[good]]. [[Passable]] 4.\n",
      "\n",
      "Worth the entertainment value of a rental, especially if you like action movies. This one features the usual car chases, fights with the great Van Damme kick style, shooting battles with the 40 shell load shotgun, and even terrorist style bombs. All of this is entertaining and competently handled but there is nothing that really blows you away if you've seen your share before.<br /><br />The plot is made interesting by the inclusion of a rabbit, which is clever but hardly profound. Many of the characters are heavily stereotyped -- the angry veterans, the terrified illegal aliens, the crooked cops, the indifferent feds, the bitchy tough lady station head, the crooked politician, the fat federale who looks like he was typecast as the Mexican in a Hollywood movie from the 1940s. All passably acted but again nothing special.<br /><br />I thought the main villains were pretty well done and fairly well acted. By the end of the [[teatro]] you [[seemingly]] [[learnt]] who the good guys were and weren't. There was an emotional lift as the really bad ones got their just deserts. Very simplistic, but then you weren't expecting Hamlet, right? The only thing I [[indicated]] [[undoubtedly]] annoying was the [[lifelong]] cuts to VDs [[daughters]] during the [[previous]] [[struggled]] [[photographing]].<br /><[[ab]] />Not bad. [[Either]] [[ok]]. [[Presentable]] 4.\n",
      "\n",
      "\n"
     ]
    },
    {
     "name": "stderr",
     "output_type": "stream",
     "text": [
      "[Succeeded / Failed / Skipped / Total] 3 / 0 / 0 / 3:  30%|███       | 3/10 [00:58<02:16, 19.51s/it]"
     ]
    },
    {
     "name": "stdout",
     "output_type": "stream",
     "text": [
      "--------------------------------------------- Result 3 ---------------------------------------------\n",
      "[[Negative (100%)]] --> [[Positive (98%)]]\n",
      "\n",
      "its a totally average film with a few semi-alright action sequences that make the plot [[seem]] a [[little]] [[better]] and remind the viewer of the classic van dam films. parts of the plot don't make sense and seem to be added in to use up time. the end plot is that of a very basic type that doesn't leave the viewer guessing and any twists are obvious from the beginning. the end scene with the [[flask]] backs don't make sense as they are added in and seem to have little relevance to the history of van dam's character. not really [[worth]] watching again, bit disappointed in the end production, even though it is apparent it was shot on a low budget certain shots and sections in the film are of [[poor]] directed quality\n",
      "\n",
      "its a totally average film with a few semi-alright action sequences that make the plot [[transpires]] a [[restrained]] [[exemplary]] and remind the viewer of the classic van dam films. parts of the plot don't make sense and seem to be added in to use up time. the end plot is that of a very basic type that doesn't leave the viewer guessing and any twists are obvious from the beginning. the end scene with the [[flasks]] backs don't make sense as they are added in and seem to have little relevance to the history of van dam's character. not really [[priceless]] watching again, bit disappointed in the end production, even though it is apparent it was shot on a low budget certain shots and sections in the film are of [[vulnerable]] directed quality\n",
      "\n",
      "\n"
     ]
    },
    {
     "name": "stderr",
     "output_type": "stream",
     "text": [
      "[Succeeded / Failed / Skipped / Total] 4 / 0 / 1 / 5:  50%|█████     | 5/10 [01:40<01:40, 20.05s/it]"
     ]
    },
    {
     "name": "stdout",
     "output_type": "stream",
     "text": [
      "--------------------------------------------- Result 4 ---------------------------------------------\n",
      "[[Negative (100%)]] --> [[Positive (90%)]]\n",
      "\n",
      "STAR RATING: ***** Saturday Night **** Friday Night *** Friday Morning ** Sunday Night * Monday Morning <br /><br />Former New Orleans homicide cop Jack Robideaux (Jean Claude Van [[Damme]]) is re-assigned to Columbus, a small but violent town in Mexico to help the police there with their efforts to stop a major heroin smuggling operation into their town. The [[culprits]] turn out to be ex-military, lead by former commander Benjamin [[Meyers]] (Stephen Lord, otherwise known as Jase from East Enders) who is using a special method he learned in Afghanistan to fight off his opponents. But Jack has a more personal reason for taking him down, that draws the two men into an explosive final showdown where only one will walk away alive.<br /><br />After Until Death, Van Damme appeared to be on a high, showing he could make the best straight to video films in the action market. While that was a far more drama oriented film, with The Shepherd he has returned to the high-kicking, no brainer action that first made him famous and has sadly produced his worst film since Derailed. It's nowhere near as bad as that film, but what I [[said]] still stands.<br /><br />A [[dull]], predictable film, with very little in the way of any exciting action. What little there is mainly consists of some limp fight scenes, trying to look cool and trendy with some cheap slo-mo/sped up effects added to them that sadly instead make them look more desperate. Being a Mexican set film, director Isaac Florentine has tried to give the film a Robert Rodriguez/Desperado sort of feel, but this only adds to the desperation.<br /><br />VD gives a particularly [[uninspired]] [[performance]] and given he's never been a Robert De Niro sort of [[actor]], that can't be [[good]]. As the villain, Lord shouldn't expect to [[leave]] the beeb anytime soon. He [[gets]] [[little]] [[dialogue]] at the beginning as he struggles to muster an American accent but [[gets]] [[mysteriously]] better towards the [[end]]. [[All]] the [[supporting]] cast are equally [[bland]], and [[do]] nothing to [[raise]] the [[films]] [[spirits]] at all.<br /><br />[[This]] is one shepherd that's [[strayed]] [[right]] from the flock. *\n",
      "\n",
      "STAR RATING: ***** Saturday Night **** Friday Night *** Friday Morning ** Sunday Night * Monday Morning <br /><br />Former New Orleans homicide cop Jack Robideaux (Jean Claude Van [[Mah]]) is re-assigned to Columbus, a small but violent town in Mexico to help the police there with their efforts to stop a major heroin smuggling operation into their town. The [[delinquents]] turn out to be ex-military, lead by former commander Benjamin [[Terrence]] (Stephen Lord, otherwise known as Jase from East Enders) who is using a special method he learned in Afghanistan to fight off his opponents. But Jack has a more personal reason for taking him down, that draws the two men into an explosive final showdown where only one will walk away alive.<br /><br />After Until Death, Van Damme appeared to be on a high, showing he could make the best straight to video films in the action market. While that was a far more drama oriented film, with The Shepherd he has returned to the high-kicking, no brainer action that first made him famous and has sadly produced his worst film since Derailed. It's nowhere near as bad as that film, but what I [[highlighted]] still stands.<br /><br />A [[bleak]], predictable film, with very little in the way of any exciting action. What little there is mainly consists of some limp fight scenes, trying to look cool and trendy with some cheap slo-mo/sped up effects added to them that sadly instead make them look more desperate. Being a Mexican set film, director Isaac Florentine has tried to give the film a Robert Rodriguez/Desperado sort of feel, but this only adds to the desperation.<br /><br />VD gives a particularly [[rehash]] [[returns]] and given he's never been a Robert De Niro sort of [[protagonists]], that can't be [[exemplary]]. As the villain, Lord shouldn't expect to [[holidays]] the beeb anytime soon. He [[became]] [[smaller]] [[conversations]] at the beginning as he struggles to muster an American accent but [[reaches]] [[surprisingly]] better towards the [[conclude]]. [[Each]] the [[sustaining]] cast are equally [[humdrum]], and [[makes]] nothing to [[augmentation]] the [[cinemas]] [[minds]] at all.<br /><br />[[These]] is one shepherd that's [[transgressed]] [[well]] from the flock. *\n",
      "\n",
      "\n",
      "--------------------------------------------- Result 5 ---------------------------------------------\n",
      "[[Positive (100%)]] --> [[[SKIPPED]]]\n",
      "\n",
      "First off let me say, If you haven't enjoyed a Van Damme movie since bloodsport, you probably will not like this movie. Most of these movies may not have the best plots or best actors but I enjoy these kinds of movies for what they are. This movie is much better than any of the movies the other action guys (Segal and Dolph) have thought about putting out the past few years. Van Damme is good in the movie, the movie is only worth watching to Van Damme fans. It is not as good as Wake of Death (which i highly recommend to anyone of likes Van Damme) or In hell but, in my opinion it's worth watching. It has the same type of feel to it as Nowhere to Run. Good fun stuff!\n",
      "\n",
      "\n"
     ]
    },
    {
     "name": "stderr",
     "output_type": "stream",
     "text": [
      "[Succeeded / Failed / Skipped / Total] 5 / 0 / 1 / 6:  60%|██████    | 6/10 [02:02<01:21, 20.40s/it]"
     ]
    },
    {
     "name": "stdout",
     "output_type": "stream",
     "text": [
      "--------------------------------------------- Result 6 ---------------------------------------------\n",
      "[[Negative (100%)]] --> [[Positive (68%)]]\n",
      "\n",
      "I [[had]] [[high]] [[hopes]] for this one until they changed the name to 'The Shepherd : Border Patrol, the [[lamest]] movie name ever, what was wrong with just 'The Shepherd'. This is a by the numbers action flick that tips its [[hat]] at many classic Van Damme films. There is a nice bit of action in a bar which reminded me of hard target and universal soldier but directed with no intensity or flair which is a [[shame]]. There is one great line about 'being p*ss drunk and carrying a rabbit' and some [[OK]] action scenes [[let]] down by the [[cheapness]] of it all. A lot of the times the [[dialogue]] doesn't match the characters mouth and the stunt men fall down dead a split second before even being shot. The end fight is one of the better [[Van]] Damme [[fights]] except the [[Director]] [[tries]] to go a bit too John Woo and [[fails]] also introducing flashbacks which no one really cares about just gets in the way of the action which is the whole point of a van Damme film.<br /><br />Not good, not bad, just average generic action.\n",
      "\n",
      "I [[lasted]] [[top]] [[aspires]] for this one until they changed the name to 'The Shepherd : Border Patrol, the [[trickiest]] movie name ever, what was wrong with just 'The Shepherd'. This is a by the numbers action flick that tips its [[ceilings]] at many classic Van Damme films. There is a nice bit of action in a bar which reminded me of hard target and universal soldier but directed with no intensity or flair which is a [[pity]]. There is one great line about 'being p*ss drunk and carrying a rabbit' and some [[GOOD]] action scenes [[permit]] down by the [[coolness]] of it all. A lot of the times the [[speaking]] doesn't match the characters mouth and the stunt men fall down dead a split second before even being shot. The end fight is one of the better [[From]] Damme [[tackling]] except the [[Head]] [[attempting]] to go a bit too John Woo and [[missed]] also introducing flashbacks which no one really cares about just gets in the way of the action which is the whole point of a van Damme film.<br /><br />Not good, not bad, just average generic action.\n",
      "\n",
      "\n"
     ]
    },
    {
     "name": "stderr",
     "output_type": "stream",
     "text": [
      "[Succeeded / Failed / Skipped / Total] 6 / 0 / 1 / 7:  70%|███████   | 7/10 [02:13<00:57, 19.11s/it]"
     ]
    },
    {
     "name": "stdout",
     "output_type": "stream",
     "text": [
      "--------------------------------------------- Result 7 ---------------------------------------------\n",
      "[[Negative (100%)]] --> [[Positive (83%)]]\n",
      "\n",
      "Isaac Florentine has made some of the best western Martial Arts action movies ever produced. In particular US Seals 2, Cold Harvest, Special Forces and Undisputed 2 are all action classics. You can tell Isaac has a real passion for the genre and his films are always eventful, creative and sharp affairs, with some of the best fight sequences an action fan could hope for. In particular he has found a muse with Scott Adkins, as talented an actor and action performer as you could hope for. This is borne out with Special Forces and Undisputed 2, but unfortunately The Shepherd just doesn't live up to their abilities.<br /><br />There is no doubt that JCVD looks better here fight-wise than he has done in years, especially in the fight he has (for pretty much no reason) in a prison cell, and in the final showdown with Scott, but look in his eyes. JCVD seems to be dead inside. There's nothing in his eyes at all. It's like he just doesn't care about anything throughout the whole film. And this is the leading man.<br /><br />There are other dodgy aspects to the film, script-wise and visually, but the main problem is that you are utterly unable to empathise with the hero of the film. A genuine [[shame]] as I know we all wanted this film to be as special as it genuinely could have been. There are some good bits, mostly the action scenes themselves. This film [[had]] a terrific [[director]] and action choreographer, and an awesome opponent for JCVD to face down. This could have been the one to bring the veteran action star back up to scratch in the balls-out action movie stakes.<br /><br />Sincerely a shame that this didn't happen.\n",
      "\n",
      "Isaac Florentine has made some of the best western Martial Arts action movies ever produced. In particular US Seals 2, Cold Harvest, Special Forces and Undisputed 2 are all action classics. You can tell Isaac has a real passion for the genre and his films are always eventful, creative and sharp affairs, with some of the best fight sequences an action fan could hope for. In particular he has found a muse with Scott Adkins, as talented an actor and action performer as you could hope for. This is borne out with Special Forces and Undisputed 2, but unfortunately The Shepherd just doesn't live up to their abilities.<br /><br />There is no doubt that JCVD looks better here fight-wise than he has done in years, especially in the fight he has (for pretty much no reason) in a prison cell, and in the final showdown with Scott, but look in his eyes. JCVD seems to be dead inside. There's nothing in his eyes at all. It's like he just doesn't care about anything throughout the whole film. And this is the leading man.<br /><br />There are other dodgy aspects to the film, script-wise and visually, but the main problem is that you are utterly unable to empathise with the hero of the film. A genuine [[indignity]] as I know we all wanted this film to be as special as it genuinely could have been. There are some good bits, mostly the action scenes themselves. This film [[holds]] a terrific [[steering]] and action choreographer, and an awesome opponent for JCVD to face down. This could have been the one to bring the veteran action star back up to scratch in the balls-out action movie stakes.<br /><br />Sincerely a shame that this didn't happen.\n",
      "\n",
      "\n"
     ]
    },
    {
     "name": "stderr",
     "output_type": "stream",
     "text": [
      "[Succeeded / Failed / Skipped / Total] 7 / 0 / 1 / 8:  80%|████████  | 8/10 [02:31<00:37, 18.92s/it]"
     ]
    },
    {
     "name": "stdout",
     "output_type": "stream",
     "text": [
      "--------------------------------------------- Result 8 ---------------------------------------------\n",
      "[[Negative (100%)]] --> [[Positive (94%)]]\n",
      "\n",
      "It actually [[pains]] me to say it, but this movie was [[horrible]] on every level. The blame does not lie entirely with Van Damme as you can see he [[tried]] his best, but let's face it, he's almost fifty, how much more can you ask of him? I find it so hard to believe that the same people who put together Undisputed 2; arguably the best (western) martial [[arts]] movie in years, created this. Everything from the [[plot]], to the dialog, to the editing, to the overall [[acting]] was just [[horribly]] put together and in many cases outright [[boring]] and [[nonsensical]]. Scott Adkins who's fight scenes seemed more like a demo reel, was also terribly underused and not even the main villain which is such a shame because 1) He is more than capable of playing that role and 2) The actual main villain was not only not intimidating at all but also quite annoying. Again, not blaming Van Damme. I will always be a fan, but [[avoid]] this one.\n",
      "\n",
      "It actually [[heartbreak]] me to say it, but this movie was [[scary]] on every level. The blame does not lie entirely with Van Damme as you can see he [[prosecuted]] his best, but let's face it, he's almost fifty, how much more can you ask of him? I find it so hard to believe that the same people who put together Undisputed 2; arguably the best (western) martial [[classics]] movie in years, created this. Everything from the [[lots]], to the dialog, to the editing, to the overall [[behaved]] was just [[tremendously]] put together and in many cases outright [[grim]] and [[silly]]. Scott Adkins who's fight scenes seemed more like a demo reel, was also terribly underused and not even the main villain which is such a shame because 1) He is more than capable of playing that role and 2) The actual main villain was not only not intimidating at all but also quite annoying. Again, not blaming Van Damme. I will always be a fan, but [[evita]] this one.\n",
      "\n",
      "\n"
     ]
    },
    {
     "name": "stderr",
     "output_type": "stream",
     "text": [
      "[Succeeded / Failed / Skipped / Total] 8 / 0 / 1 / 9:  90%|█████████ | 9/10 [02:51<00:19, 19.04s/it]"
     ]
    },
    {
     "name": "stdout",
     "output_type": "stream",
     "text": [
      "--------------------------------------------- Result 9 ---------------------------------------------\n",
      "[[Negative (100%)]] --> [[Positive (88%)]]\n",
      "\n",
      "Technically I'am a Van Damme Fan, or I was. this [[movie]] is [[so]] [[bad]] that I [[hated]] myself for [[wasting]] those 90 [[minutes]]. Do not let the name Isaac Florentine (Undisputed II) fool you, I had big hopes for this one, depending on what I saw in (Undisputed II), man.. was I wrong ??! all action fans [[wanted]] a big comeback for the classic action [[hero]], but i guess we wont be able to see that soon, as our hero keep coming with those (going -to-a-border - far-away-town-and -kill -the-bad-guys- than-comeback- home) [[movies]] I mean for God's sake, we are in 2008, and they insist on [[doing]] those [[disappointing]] [[movies]] on [[every]] [[level]]. Why ??!!! Do your self a favor, [[skip]] it.. [[seriously]].\n",
      "\n",
      "Technically I'am a Van Damme Fan, or I was. this [[cinemas]] is [[too]] [[wicked]] that I [[dislikes]] myself for [[loss]] those 90 [[mn]]. Do not let the name Isaac Florentine (Undisputed II) fool you, I had big hopes for this one, depending on what I saw in (Undisputed II), man.. was I wrong ??! all action fans [[envy]] a big comeback for the classic action [[sandpiper]], but i guess we wont be able to see that soon, as our hero keep coming with those (going -to-a-border - far-away-town-and -kill -the-bad-guys- than-comeback- home) [[film]] I mean for God's sake, we are in 2008, and they insist on [[accompli]] those [[woeful]] [[cinemas]] on [[each]] [[tier]]. Why ??!!! Do your self a favor, [[leaps]] it.. [[acutely]].\n",
      "\n",
      "\n"
     ]
    },
    {
     "name": "stderr",
     "output_type": "stream",
     "text": [
      "[Succeeded / Failed / Skipped / Total] 9 / 0 / 1 / 10: 100%|██████████| 10/10 [03:24<00:00, 20.42s/it]"
     ]
    },
    {
     "name": "stdout",
     "output_type": "stream",
     "text": [
      "--------------------------------------------- Result 10 ---------------------------------------------\n",
      "[[Negative (100%)]] --> [[Positive (72%)]]\n",
      "\n",
      "Honestly [[awful]] film, bad editing, awful lighting, dire dialog and [[scrappy]] screenplay.<br /><br />The lighting at is so bad there's moments you can't even see what's going on, I even tried to playing with the contrast and brightness so I could see something but that didn't [[help]].<br /><br />They must have found the script in a bin, the character development is just as [[awful]] and while you hardly expect [[much]] from a Jean-Claude Van Damme film this one manages to hit an all time low. You can't even laugh at the cheesy'ness.<br /><br />The [[directing]] and [[editing]] are also [[terrible]], the whole [[film]] [[follows]] an [[extremely]] tired routine and [[fails]] at every turn as it bumbles through the [[plot]] that is [[so]] weak it's just [[unreal]].<br /><br />There's not a lot else to [[say]] other than it's [[really]] bad and nothing like Jean-Claude Van Damme's [[earlier]] [[work]] which you could [[enjoy]].<br /><br />[[Avoid]] like the plaque, frankly [[words]] fail me in [[condemning]] this \"[[film]]\".\n",
      "\n",
      "Honestly [[outrageous]] film, bad editing, awful lighting, dire dialog and [[mouthy]] screenplay.<br /><br />The lighting at is so bad there's moments you can't even see what's going on, I even tried to playing with the contrast and brightness so I could see something but that didn't [[allow]].<br /><br />They must have found the script in a bin, the character development is just as [[outrageous]] and while you hardly expect [[highly]] from a Jean-Claude Van Damme film this one manages to hit an all time low. You can't even laugh at the cheesy'ness.<br /><br />The [[guide]] and [[revised]] are also [[scary]], the whole [[movies]] [[ongoing]] an [[overly]] tired routine and [[missed]] at every turn as it bumbles through the [[plots]] that is [[once]] weak it's just [[awesome]].<br /><br />There's not a lot else to [[argue]] other than it's [[plainly]] bad and nothing like Jean-Claude Van Damme's [[former]] [[operates]] which you could [[appreciate]].<br /><br />[[Evita]] like the plaque, frankly [[word]] fail me in [[conviction]] this \"[[cinemas]]\".\n",
      "\n",
      "\n",
      "\n",
      "+-------------------------------+--------+\n",
      "| Attack Results                |        |\n",
      "+-------------------------------+--------+\n",
      "| Number of successful attacks: | 9      |\n",
      "| Number of failed attacks:     | 0      |\n",
      "| Number of skipped attacks:    | 1      |\n",
      "| Original accuracy:            | 90.0%  |\n",
      "| Accuracy under attack:        | 0.0%   |\n",
      "| Attack success rate:          | 100.0% |\n",
      "| Average perturbed word %:     | 7.44%  |\n",
      "| Average num. words per input: | 202.2  |\n",
      "| Avg num queries:              | 539.78 |\n",
      "+-------------------------------+--------+\n",
      "Original: I love sci-fi and am willing to put up with a lot. Sci-fi movies/TV are usually underfunded, under-appreciated and misunderstood. I tried to like this, I really did, but it is to good TV sci-fi as Babylon 5 is to Star Trek (the original). Silly prosthetics, cheap cardboard sets, stilted dialogues, CG that doesn't match the background, and painfully one-dimensional characters cannot be overcome with a 'sci-fi' setting. (I'm sure there are those of you out there who think Babylon 5 is good sci-fi TV. It's not. It's clichéd and uninspiring.) While US viewers might like emotion and character development, sci-fi is a genre that does not take itself seriously (cf. Star Trek). It may treat important issues, yet not as a serious philosophy. It's really difficult to care about the characters here as they are not simply foolish, just missing a spark of life. Their actions and reactions are wooden and predictable, often painful to watch. The makers of Earth KNOW it's rubbish as they have to always say \"Gene Roddenberry's Earth...\" otherwise people would not continue watching. Roddenberry's ashes must be turning in their orbit as this dull, cheap, poorly edited (watching it without advert breaks really brings this home) trudging Trabant of a show lumbers into space. Spoiler. So, kill off a main character. And then bring him back as another actor. Jeeez! Dallas all over again.\n",
      "Adversarial: I darling sci-fi and am willing to put up with a lot. Sci-fi movies/TV are usually underfunded, under-appreciated and misunderstood. I tried to like this, I really did, but it is to good TV sci-fi as Babylon 5 is to Star Trek (the original). Silly prosthetics, cheap cardboard sets, cliché speaks, CG that doesn't match the background, and painfully one-dimensional featuring cannot be overcome with a 'sci-fi' setting. (I'm sure there are those of you out there who imagined Babylon 5 is exemplary sci-fi TV. It's not. It's clichéd and uninspiring.) While US viewers might like emotion and character development, sci-fi is a genre that does not wear itself seriously (cf. Star Trek). It may treat important issues, yet not as a utmost philosophy. It's really arduous to loving about the character here as they are not hardly foolish, just missing a spark of life. Their actions and reactions are wooden and predictable, often painful to watch. The makers of Earth KNOW it's rubbish as they have to always say \"Gene Roddenberry's Earth...\" otherwise people would not continue watching. Roddenberry's ashes must be turning in their orbit as this somber, cheap, poorly edited (watching it without advert breaks really brings this home) toiling Trabant of a show lumbers into space. Spoiler. So, matan off a main character. And then bring him back as another actor. Jeeez! Dallas all over again.\n",
      "--------------------------------------------------\n",
      "Original: Worth the entertainment value of a rental, especially if you like action movies. This one features the usual car chases, fights with the great Van Damme kick style, shooting battles with the 40 shell load shotgun, and even terrorist style bombs. All of this is entertaining and competently handled but there is nothing that really blows you away if you've seen your share before.<br /><br />The plot is made interesting by the inclusion of a rabbit, which is clever but hardly profound. Many of the characters are heavily stereotyped -- the angry veterans, the terrified illegal aliens, the crooked cops, the indifferent feds, the bitchy tough lady station head, the crooked politician, the fat federale who looks like he was typecast as the Mexican in a Hollywood movie from the 1940s. All passably acted but again nothing special.<br /><br />I thought the main villains were pretty well done and fairly well acted. By the end of the movie you certainly knew who the good guys were and weren't. There was an emotional lift as the really bad ones got their just deserts. Very simplistic, but then you weren't expecting Hamlet, right? The only thing I found really annoying was the constant cuts to VDs daughter during the last fight scene.<br /><br />Not bad. Not good. Passable 4.\n",
      "Adversarial: Worth the entertainment value of a rental, especially if you like action movies. This one features the usual car chases, fights with the great Van Damme kick style, shooting battles with the 40 shell load shotgun, and even terrorist style bombs. All of this is entertaining and competently handled but there is nothing that really blows you away if you've seen your share before.<br /><br />The plot is made interesting by the inclusion of a rabbit, which is clever but hardly profound. Many of the characters are heavily stereotyped -- the angry veterans, the terrified illegal aliens, the crooked cops, the indifferent feds, the bitchy tough lady station head, the crooked politician, the fat federale who looks like he was typecast as the Mexican in a Hollywood movie from the 1940s. All passably acted but again nothing special.<br /><br />I thought the main villains were pretty well done and fairly well acted. By the end of the teatro you seemingly learnt who the good guys were and weren't. There was an emotional lift as the really bad ones got their just deserts. Very simplistic, but then you weren't expecting Hamlet, right? The only thing I indicated undoubtedly annoying was the lifelong cuts to VDs daughters during the previous struggled photographing.<br /><ab />Not bad. Either ok. Presentable 4.\n",
      "--------------------------------------------------\n",
      "Original: its a totally average film with a few semi-alright action sequences that make the plot seem a little better and remind the viewer of the classic van dam films. parts of the plot don't make sense and seem to be added in to use up time. the end plot is that of a very basic type that doesn't leave the viewer guessing and any twists are obvious from the beginning. the end scene with the flask backs don't make sense as they are added in and seem to have little relevance to the history of van dam's character. not really worth watching again, bit disappointed in the end production, even though it is apparent it was shot on a low budget certain shots and sections in the film are of poor directed quality\n",
      "Adversarial: its a totally average film with a few semi-alright action sequences that make the plot transpires a restrained exemplary and remind the viewer of the classic van dam films. parts of the plot don't make sense and seem to be added in to use up time. the end plot is that of a very basic type that doesn't leave the viewer guessing and any twists are obvious from the beginning. the end scene with the flasks backs don't make sense as they are added in and seem to have little relevance to the history of van dam's character. not really priceless watching again, bit disappointed in the end production, even though it is apparent it was shot on a low budget certain shots and sections in the film are of vulnerable directed quality\n",
      "--------------------------------------------------\n",
      "Original: STAR RATING: ***** Saturday Night **** Friday Night *** Friday Morning ** Sunday Night * Monday Morning <br /><br />Former New Orleans homicide cop Jack Robideaux (Jean Claude Van Damme) is re-assigned to Columbus, a small but violent town in Mexico to help the police there with their efforts to stop a major heroin smuggling operation into their town. The culprits turn out to be ex-military, lead by former commander Benjamin Meyers (Stephen Lord, otherwise known as Jase from East Enders) who is using a special method he learned in Afghanistan to fight off his opponents. But Jack has a more personal reason for taking him down, that draws the two men into an explosive final showdown where only one will walk away alive.<br /><br />After Until Death, Van Damme appeared to be on a high, showing he could make the best straight to video films in the action market. While that was a far more drama oriented film, with The Shepherd he has returned to the high-kicking, no brainer action that first made him famous and has sadly produced his worst film since Derailed. It's nowhere near as bad as that film, but what I said still stands.<br /><br />A dull, predictable film, with very little in the way of any exciting action. What little there is mainly consists of some limp fight scenes, trying to look cool and trendy with some cheap slo-mo/sped up effects added to them that sadly instead make them look more desperate. Being a Mexican set film, director Isaac Florentine has tried to give the film a Robert Rodriguez/Desperado sort of feel, but this only adds to the desperation.<br /><br />VD gives a particularly uninspired performance and given he's never been a Robert De Niro sort of actor, that can't be good. As the villain, Lord shouldn't expect to leave the beeb anytime soon. He gets little dialogue at the beginning as he struggles to muster an American accent but gets mysteriously better towards the end. All the supporting cast are equally bland, and do nothing to raise the films spirits at all.<br /><br />This is one shepherd that's strayed right from the flock. *\n",
      "Adversarial: STAR RATING: ***** Saturday Night **** Friday Night *** Friday Morning ** Sunday Night * Monday Morning <br /><br />Former New Orleans homicide cop Jack Robideaux (Jean Claude Van Mah) is re-assigned to Columbus, a small but violent town in Mexico to help the police there with their efforts to stop a major heroin smuggling operation into their town. The delinquents turn out to be ex-military, lead by former commander Benjamin Terrence (Stephen Lord, otherwise known as Jase from East Enders) who is using a special method he learned in Afghanistan to fight off his opponents. But Jack has a more personal reason for taking him down, that draws the two men into an explosive final showdown where only one will walk away alive.<br /><br />After Until Death, Van Damme appeared to be on a high, showing he could make the best straight to video films in the action market. While that was a far more drama oriented film, with The Shepherd he has returned to the high-kicking, no brainer action that first made him famous and has sadly produced his worst film since Derailed. It's nowhere near as bad as that film, but what I highlighted still stands.<br /><br />A bleak, predictable film, with very little in the way of any exciting action. What little there is mainly consists of some limp fight scenes, trying to look cool and trendy with some cheap slo-mo/sped up effects added to them that sadly instead make them look more desperate. Being a Mexican set film, director Isaac Florentine has tried to give the film a Robert Rodriguez/Desperado sort of feel, but this only adds to the desperation.<br /><br />VD gives a particularly rehash returns and given he's never been a Robert De Niro sort of protagonists, that can't be exemplary. As the villain, Lord shouldn't expect to holidays the beeb anytime soon. He became smaller conversations at the beginning as he struggles to muster an American accent but reaches surprisingly better towards the conclude. Each the sustaining cast are equally humdrum, and makes nothing to augmentation the cinemas minds at all.<br /><br />These is one shepherd that's transgressed well from the flock. *\n",
      "--------------------------------------------------\n",
      "Original: First off let me say, If you haven't enjoyed a Van Damme movie since bloodsport, you probably will not like this movie. Most of these movies may not have the best plots or best actors but I enjoy these kinds of movies for what they are. This movie is much better than any of the movies the other action guys (Segal and Dolph) have thought about putting out the past few years. Van Damme is good in the movie, the movie is only worth watching to Van Damme fans. It is not as good as Wake of Death (which i highly recommend to anyone of likes Van Damme) or In hell but, in my opinion it's worth watching. It has the same type of feel to it as Nowhere to Run. Good fun stuff!\n",
      "Adversarial: First off let me say, If you haven't enjoyed a Van Damme movie since bloodsport, you probably will not like this movie. Most of these movies may not have the best plots or best actors but I enjoy these kinds of movies for what they are. This movie is much better than any of the movies the other action guys (Segal and Dolph) have thought about putting out the past few years. Van Damme is good in the movie, the movie is only worth watching to Van Damme fans. It is not as good as Wake of Death (which i highly recommend to anyone of likes Van Damme) or In hell but, in my opinion it's worth watching. It has the same type of feel to it as Nowhere to Run. Good fun stuff!\n",
      "--------------------------------------------------\n"
     ]
    },
    {
     "name": "stderr",
     "output_type": "stream",
     "text": [
      "\n"
     ]
    }
   ],
   "source": [
    "# Adversarial Attack Section\n",
    "bert_model = BertForSequenceClassification.from_pretrained(\".trained_models/bert_model\")\n",
    "\n",
    "# Wrap dataset in TextAttack format\n",
    "wrapped_model = HuggingFaceModelWrapper(bert_model, bert_tokenizer)\n",
    "\n",
    "# Create the attack\n",
    "attack = TextFoolerJin2019.build(wrapped_model)   \n",
    "attack.max_candidates = 10   # Increase the number of candidates\n",
    "attack.max_num_words = 5     # Allow more words to be perturbed\n",
    "attack.threshold = 0.3       # Lower the threshold for more perturbation\n",
    "\n",
    "# Use Hugging Face dataset (IMDB)\n",
    "huggingface_dataset = HuggingFaceDataset(\"imdb\", split='test')\n",
    "\n",
    "# Create the attacker\n",
    "attacker = Attacker(attack, huggingface_dataset)\n",
    "\n",
    "# Run the attack and generate adversarial examples\n",
    "results = attacker.attack_dataset()\n",
    "\n",
    "# Display a few adversarial examples\n",
    "for i in range(5):\n",
    "    print(\"Original:\", results[i].original_text())\n",
    "    print(\"Adversarial:\", results[i].perturbed_text())\n",
    "    print(\"-\" * 50)"
   ]
  },
  {
   "cell_type": "markdown",
   "metadata": {},
   "source": [
    "## Synonym Replacement on Attacking Data"
   ]
  },
  {
   "cell_type": "code",
   "execution_count": 29,
   "metadata": {},
   "outputs": [
    {
     "name": "stderr",
     "output_type": "stream",
     "text": [
      "[nltk_data] Downloading package wordnet to /Users/awang/nltk_data...\n",
      "[nltk_data]   Package wordnet is already up-to-date!\n"
     ]
    }
   ],
   "source": [
    "nltk.download('wordnet')\n",
    "\n",
    "def synonym_replacement(sentence):\n",
    "    words = sentence.split()\n",
    "    new_sentence = []\n",
    "    for word in words:\n",
    "        synonyms = nltk.corpus.wordnet.synsets(word)\n",
    "        if synonyms:\n",
    "            i = 0\n",
    "            while synonyms[i].lemmas()[0].name() == word:\n",
    "                i += 1\n",
    "                if i >= len(synonyms) - 1:\n",
    "                    break\n",
    "            if i >= len(synonyms) - 1:\n",
    "                synonym = word\n",
    "            else:\n",
    "                synonym = synonyms[i].lemmas()[0].name()\n",
    "            new_sentence.append(synonym)\n",
    "        else:\n",
    "            new_sentence.append(word)\n",
    "    return ' '.join(new_sentence)\n",
    "\n",
    "# Apply synonym replacement to the entire dataset\n",
    "def synonym_replacement_dataset(dataset):\n",
    "    dataset_synonym_replacement = dataset.map(lambda x: {'text': synonym_replacement(x['text'])})\n",
    "    return dataset_synonym_replacement"
   ]
  },
  {
   "cell_type": "code",
   "execution_count": 30,
   "metadata": {},
   "outputs": [
    {
     "name": "stdout",
     "output_type": "stream",
     "text": [
      "Original sentence: The quick brown fox jumps over the lazy dog.\n",
      "Transformed sentence: The flying Brown dodger jump complete the lazy dog.\n"
     ]
    }
   ],
   "source": [
    "# Example of input transformation\n",
    "sentence = \"The quick brown fox jumps over the lazy dog.\"\n",
    "transformed_sentence = synonym_replacement(sentence)\n",
    "print(\"Original sentence:\", sentence)\n",
    "print(\"Transformed sentence:\", transformed_sentence)"
   ]
  },
  {
   "cell_type": "code",
   "execution_count": 25,
   "metadata": {},
   "outputs": [
    {
     "data": {
      "text/plain": [
       "0"
      ]
     },
     "execution_count": 25,
     "metadata": {},
     "output_type": "execute_result"
    }
   ],
   "source": [
    "results[0].perturbed_result.ground_truth_output"
   ]
  },
  {
   "cell_type": "code",
   "execution_count": 31,
   "metadata": {},
   "outputs": [],
   "source": [
    "original_synonym_replacement = [None] * 10\n",
    "for i in range(10):\n",
    "    original_synonym_replacement[i] = synonym_replacement(results[i].original_text())\n",
    "\n",
    "original_texts = []\n",
    "adversarial_texts = []\n",
    "labels = []\n",
    "\n",
    "#attack the model using the synonym replacement examples\n",
    "for i in range(len(original_synonym_replacement)):\n",
    "    text = original_synonym_replacement[i]\n",
    "    label = results[i].perturbed_result.ground_truth_output\n",
    "\n",
    "    try:\n",
    "        # Generate adversarial example\n",
    "        result = attack.attack(text, label)\n",
    "        original_texts.append(result.original_text())\n",
    "        adversarial_texts.append(result.perturbed_text())\n",
    "        labels.append(label)\n",
    "    except Exception as e:\n",
    "        print(f\"Error on sample {i}: {e}\")\n",
    "        continue"
   ]
  },
  {
   "cell_type": "code",
   "execution_count": null,
   "metadata": {},
   "outputs": [],
   "source": []
  },
  {
   "cell_type": "code",
   "execution_count": 35,
   "metadata": {},
   "outputs": [
    {
     "name": "stdout",
     "output_type": "stream",
     "text": [
      "0\n",
      "0\n",
      "Original: iodine beloved sci-fi and americium volition to put_option astir with angstrom lot. Sci-fi movies/TV be usually underfunded, under-appreciated and misunderstood. iodine try to wish this, iodine truly did, but it be to commodity television sci-fi arsenic Babylon five be to star trek (the original). silly prosthetics, brassy cardboard sets, stilted dialogues, CG that doesn't catch the background, and painfully unidimensional fictional_character cannot beryllium get_the_better_of with angstrom 'sci-fi' setting. (I'm certain there be those of you come_out_of_the_closet there who remember Babylon five be commodity sci-fi TV. It's not. It's clichéd and uninspiring.) While United_States viewing_audience might wish emotion and fictional_character development, sci-fi be angstrom writing_style that Department_of_Energy not return itself seriously (cf. star Trek). It May dainty significant issues, so_far not arsenic angstrom dangerous philosophy. It's truly difficult to caution approximately the fictional_character Hera arsenic they be not merely foolish, equitable miss angstrom flicker of life. Their action and chemical_reaction be wooden and predictable, frequently afflictive to watch. The maker of earth know it's folderol arsenic they rich_person to constantly state \"Gene Roddenberry's Earth...\" otherwise citizenry would not proceed watching. Roddenberry's ash mustiness beryllium turn inch their sphere arsenic this dull, cheap, ailing edit (watching it without ad interruption truly bring this home) trudging Trabant of angstrom display lumber into space. Spoiler. So, killing murder angstrom chief character. And then institute him rear arsenic another actor. Jeeez! Dallas all complete again.\n",
      "Adversarial: iodine beloved sci-fi and americium volition to put_option astir with angstrom lot. Sci-fi movies/TV be usually underfunded, under-appreciated and misunderstood. iodine try to wish this, iodine truly did, but it be to commodity television sci-fi arsenic Babylon five be to star trek (the original). silly prosthetics, brassy cardboard sets, stilted chatting, CG that doesn't catch the background, and painfully unidimensional fictional_character cannot beryllium get_the_better_of with angstrom 'sci-fi' setting. (I'm certain there be those of you come_out_of_the_closet there who remember Babylon five be commodity sci-fi TV. It's not. It's clichéd and uninspiring.) While United_States viewing_audience might wish emotion and fictional_character development, sci-fi be angstrom writing_style that Department_of_Energy not return itself seriously (cf. star Trek). It May dainty significant issues, so_far not arsenic angstrom dangerous philosophy. It's truly difficult to caution approximately the fictional_character Hera arsenic they be not merely foolish, equitable miss angstrom flicker of life. Their acts and chemical_reaction be wooden and predictable, frequently afflictive to watch. The maker of earth know it's folderol arsenic they rich_person to constantly state \"Gene Roddenberry's Earth...\" otherwise citizenry would not proceed watching. Roddenberry's ashes mustiness beryllium turn inch their arrondissement arsenic this infuriating, cheap, ailing edit (watching it without ad interruption truly bring this hosting) trudging Trabant of angstrom display lumber into space. Spoiler. So, killing murder angstrom chief character. And then institute him rear arsenic another actor. Jeeez! Dallas all complete again.\n",
      "--------------------------------------------------\n",
      "0\n",
      "0\n",
      "Original: worth the entertainment prize of angstrom rental, particularly if you wish military_action movies. This one feature the usual car chases, battle with the bang-up avant-garde Damme bang style, shoot battle with the forty carapace cargo shotgun, and evening terrorist manner bombs. all of this be entertain and competently manage but there be nothing that truly blow you aside if you've see your parcel before.<br /><br />The diagram be make interest by the inclusion_body of angstrom rabbit, which be cagey but barely profound. Many of the fictional_character be heavy pigeonhole -- the angry veterans, the terrify illegal aliens, the crook cops, the apathetic feds, the bitchy street_fighter dame place head, the crook politician, the adipose_tissue federale who expression wish helium Washington typecast arsenic the Mexican inch angstrom Hollywood movie from the 1940s. all passably act but again nothing special.<br /><br />I idea the chief villain be pretty good make and reasonably good acted. by the goal of the movie you certainly know who the commodity guy be and weren't. there Washington an emotional aerodynamic_lift arsenic the truly regretful one get their equitable deserts. very simplistic, but then you weren't expect Hamlet, right? The lone matter iodine establish truly annoyance Washington the changeless cut to VDs daughter during the stopping_point battle scene.<br /><br />Not bad. Not good. passable 4.\n",
      "Adversarial: worth the entertainment distinctions of angstrom rental, particularly if you wish military_action movies. This one feature the everyday car chases, battle with the bang-up avant-garde Damme bang style, shoot battle with the forty carapace cargo shotgun, and evening terrorist manner bombs. all of this sont entertain and competently manage but there be nothing that truly blow you aside if you've see your parcel before.<br /><br />The diagram be make interest by the inclusion_body of angstrom rabbit, which be flighty but closely profound. Many of the fictional_character be heavy pigeonhole -- the angry veterans, the frighten illegal aliens, the crook cops, the apathetic lapd, the tramp street_fighter dame place head, the crook politician, the adipose_tissue federale who expression wish helium Washington typecast arsenic the Mexican inch angstrom Hollywood movie from the 1940s. all passably act but again nothing special.<br /><br />I idea the chief villain be pretty good make and reasonably good acted. by the goal of the movie you certainly know who the commodity guy be and weren't. there Washington an emotional aerodynamic_lift arsenic the efficiently deplorable one get their equitable deserts. very simplistic, but then you weren't trusts Hamlets, rights? The singles themes iodine establish truly turbulence Washington the changeless coupe to VDs daughters during the stopping_point hostilities venues.<ab /><brit />Not bad. Never super. passable 4.\n",
      "--------------------------------------------------\n",
      "0\n",
      "0\n",
      "Original: its angstrom totally modal movie with angstrom few semi-alright military_action sequence that brand the diagram look angstrom small bettor and remind the spectator of the authoritative avant-garde decameter films. part of the diagram don't brand common_sense and look to beryllium add inch to function astir time. the goal diagram be that of angstrom identical BASIC character that doesn't farewell the spectator guess and any turn be obvious from the beginning. the goal view with the flask back don't brand common_sense arsenic they be add inch and look to rich_person small relevance to the history of avant-garde dam's character. not truly Worth observation again, spot disappoint inch the goal production, evening though it be apparent it Washington shooting along angstrom Low budget sealed shooting and section inch the movie be of poor_people direct timbre\n",
      "Adversarial: its angstrom totally modal movie with angstrom few semi-alright military_action sequence that brand the diagram see angstrom small keno and remind the spectator of the authoritative avant-garde decameter films. part of the diagram don't brand common_sense and look to beryllium add inch to function astir time. the goal diagram be that of angstrom identical BASIC character that doesn't farewell the spectator guess and any turn be obvious from the beginning. the goal view with the flask back don't brand common_sense arsenic they be add inch and look to rich_person small relevance to the history of avant-garde dam's character. not truly Meritorious observation again, spot disenchanted inch the goal production, evening though it be apparent it Washington shooting along angstrom Low budget sealed shooting and section inch the movie be of poor_people direct timbre\n",
      "--------------------------------------------------\n",
      "0\n",
      "0\n",
      "Original: star RATING: ***** Saturday night **** Friday night *** Friday morning ** Sunday night * Monday morning <br /><br />Former new Orleans homicide bull jack Robideaux (Jean Claude avant-garde Damme) be re-assigned to Columbus, angstrom minor but fierce township inch Mexico to aid the police there with their attempt to arrest angstrom Major heroin smuggling process into their town. The culprits bend come_out_of_the_closet to beryllium ex-military, star by erstwhile commanding_officer benzoin Meyers (Stephen Lord, otherwise know arsenic Jase from east Enders) who be exploitation angstrom particular method helium learn inch Afghanistan to battle murder his opponents. But jack hour_angle angstrom More personal rationality for pickings him down, that draw the deuce work_force into an explosive final_examination showdown where lone one volition base_on_balls aside alive.<br /><br />After Until Death, avant-garde Damme look to beryllium along angstrom high, screening helium could brand the Best heterosexual to video_recording movie inch the military_action market. While that Washington angstrom Army_for_the_Liberation_of_Rwanda More play orient film, with The shepherd helium hour_angle return to the high-kicking, nobelium brainer military_action that beginning make him famous and hour_angle sadly produce his bad movie since Derailed. It's nowhere approach arsenic regretful arsenic that film, but what iodine state hush stands.<br /><br />A dull, predictable film, with identical small inch the manner of any excite action. What small there be mainly dwell of some hitch battle scenes, try to expression aplomb and trendy with some brassy slo-mo/sped astir consequence add to them that sadly alternatively brand them expression More desperate. being angstrom Mexican stage_set film, film_director Isaac Florentine hour_angle try to yield the movie angstrom Robert Rodriguez/Desperado kind of feel, but this lone attention_deficit_disorder to the desperation.<br /><br />VD give angstrom particularly uninspired performance and give he's never be angstrom Robert De Niro kind of actor, that can't beryllium good. arsenic the villain, Godhead shouldn't ask to farewell the beeb anytime soon. helium get small dialogue astatine the get_down arsenic helium struggle to conscription an American_English emphasis but get mysteriously bettor towards the end. all the support mold be equally bland, and bash nothing to ascent the movie liquor astatine all.<br /><br />This be one sheepherder that's roll right_field from the flock. *\n",
      "Adversarial: sung ANALYSES: ***** Weekends nights **** Today evenings *** Today morning ** Today nights * Today morning <br /><brit />Longtime innovative Orleans deadly bull jacques Robideaux (Jeans Claude avant-garde Damme) es re-assigned to Orleans, angstrom less but keen township millimetres Mexico to contributing the policing there with their pursue to arrest angstrom Essential addict deals transformed into their sheng. Both culprits curved come_out_of_the_closet to beryllium ex-military, celebrity by erstwhile commanding_officer benzoin Meyers (Stephen Lord, otherwise know arsenic Jase from east Enders) who be exploitation angstrom particular method helium learn inch Afghanistan to battle murder his opponents. But jack hour_angle angstrom More personal rationality for pickings him down, that draw the deuce work_force into an explosive final_examination showdown where lone one volition base_on_balls aside alive.<br /><br />After Until Death, avant-garde Damme look to beryllium along angstrom high, screening helium could brand the Best heterosexual to video_recording movie inch the military_action market. While that Washington angstrom Army_for_the_Liberation_of_Rwanda More play orient film, with The shepherd helium hour_angle return to the high-kicking, nobelium brainer military_action that beginning make him famous and hour_angle sadly produce his bad movie since Derailed. It's nowhere approach arsenic regretful arsenic that film, but what iodine state hush stands.<br /><br />paras infuriating, predictable film, with identical small inch the manner of any excite action. What small there be mainly dwell of some hitch battle scenes, try to expression aplomb and trendy with some brassy slo-mo/sped astir consequence add to them that sadly alternatively brand them expression More desperate. being angstrom Mexican stage_set film, film_director Isaac Florentine hour_angle try to yield the movie angstrom Robert Rodriguez/Desperado kind of feel, but this lone attention_deficit_disorder to the desperation.<br /><br />VD give angstrom particularly hokey performance and give he's never be angstrom Robert De Niro kind of actor, that can't beryllium good. arsenic the villain, Godhead shouldn't ask to farewell the beeb anytime soon. helium get small dialogue astatine the get_down arsenic helium struggle to conscription an American_English emphasis but get mysteriously bettor towards the end. all the support mold be equally bland, and bash nothing to ascent the movie liquor astatine all.<br /><br />This be one sheepherder that's roll right_field from the flock. *\n",
      "--------------------------------------------------\n",
      "0\n",
      "0\n",
      "Original: first murder Lashkar-e-Taiba me say, If you haven't enjoy angstrom avant-garde Damme movie since bloodsport, you probably volition not wish this movie. most of these movies May not rich_person the Best plot Oregon Best actor but iodine love these kinds of movies for what they are. This movie be a_lot bettor than any of the movies the early military_action guy (Segal and Dolph) rich_person idea approximately putt come_out_of_the_closet the past few years. avant-garde Damme be commodity inch the movie, the movie be lone Worth observation to avant-garde Damme fans. It be not arsenic commodity arsenic aftermath of death (which iodine highly commend to anyone of like avant-garde Damme) Oregon inch Hell but, inch my public_opinion it's Worth watching. It hour_angle the Lapp character of spirit to it arsenic nowhere to Run. good fun stuff!\n",
      "Adversarial: first murder Lashkar-e-Taiba me say, If you haven't enjoy angstrom avant-garde Damme movie since bloodsport, you probably volition not wish this movie. most of these movies May not rich_person the Best plot Oregon Best actor but iodine love these kinds of movies for what they are. This movie be a_lot bettor than any of the movies the early military_action guy (Segal and Dolph) rich_person idea approximately putt come_out_of_the_closet the past few years. avant-garde Damme be commodity inch the movie, the movie be lone Worth observation to avant-garde Damme fans. It be not arsenic commodity arsenic aftermath of death (which iodine highly commend to anyone of like avant-garde Damme) Oregon inch Hell but, inch my public_opinion it's Worth watching. It hour_angle the Lapp character of spirit to it arsenic nowhere to Run. good fun stuff!\n",
      "--------------------------------------------------\n",
      "0\n",
      "0\n",
      "Original: iodine have senior_high_school hope for this one until they change the appoint to 'The shepherd : boundary_line Patrol, the feeble movie appoint ever, what Washington incorrect with equitable 'The Shepherd'. This be angstrom by the Numbers military_action movie that tip its hat astatine many authoritative avant-garde Damme films. there be angstrom Nice spot of military_action inch angstrom barroom which remind me of difficult prey and universal_joint soldier but direct with nobelium volume Oregon dash which be angstrom shame. there be one bang-up argumentation approximately 'being p*ss drunkard and transport angstrom rabbit' and some Oklahoma military_action scene Lashkar-e-Taiba Down by the bargain_rate of it all. angstrom batch of the multiplication the dialogue doesn't catch the fictional_character mouthpiece and the stunt work_force spill Down all_in angstrom rip moment earlier evening organism shot. The goal battle be one of the bettor avant-garde Damme battle demur the director attempt to Adam angstrom spot excessively toilet woo and fail also introduce flashback which nobelium one truly care approximately equitable get inch the manner of the military_action which be the unharmed detail of angstrom avant-garde Damme film.<br /><br />Not good, not bad, equitable modal generic action.\n",
      "Adversarial: iodine have senior_high_school hope for this one until they change the appoint to 'The shepherd : boundary_line Patrol, the feeble movie appoint ever, what Washington incorrect with equitable 'The Shepherd'. This be angstrom by the Numbers military_action movie that tip its hat astatine many authoritative avant-garde Damme films. there be angstrom Nice spot of military_action inch angstrom barroom which remind me of difficult prey and universal_joint soldier but direct with nobelium volume Oregon dash which be angstrom shame. there be one bang-up argumentation approximately 'being p*ss drunkard and transport angstrom rabbit' and some Oklahoma military_action scene Lashkar-e-Taiba Down by the bargain_rate of it all. angstrom batch of the multiplication the dialogue doesn't peaches the fictional_character mouthpiece and the stunt work_force spill Down all_in angstrom rip moment earlier evening organism shot. The goal battle be one of the bettor avant-garde Damme battle demur the governing attempt to Adam angstrom spot excessively toilet woo and imperfection also introduce flashback which nobelium one truly care approximately equitable get inch the manner of the military_action which be the unharmed detail of angstrom avant-garde Damme film.<br /><br />Not good, not bad, equitable modal generic action.\n",
      "--------------------------------------------------\n",
      "0\n",
      "0\n",
      "Original: Isaac Florentine hour_angle make some of the Best Western soldierly humanistic_discipline military_action movies always produced. inch detail United_States sealing_wax 2, cold Harvest, special force and Undisputed two be all military_action classics. You buttocks Tell Isaac hour_angle angstrom real_number heat for the writing_style and his movie be constantly eventful, creative and crisp affairs, with some of the Best battle sequence an military_action sports_fan could promise for. inch detail helium hour_angle establish angstrom Muse with Scott Adkins, arsenic talented an actor and military_action performer arsenic you could promise for. This be bear come_out_of_the_closet with special force and Undisputed 2, but unfortunately The shepherd equitable doesn't populate astir to their abilities.<br /><br />There be nobelium doubt that JCVD expression bettor Hera fight-wise than helium hour_angle make inch years, particularly inch the battle helium hour_angle (for pretty a_lot nobelium reason) inch angstrom prison cell, and inch the final_examination showdown with Scott, but expression inch his eyes. JCVD look to beryllium all_in inside. There's nothing inch his eye astatine all. It's wish helium equitable doesn't caution approximately anything throughout the unharmed film. And this be the lead man.<br /><br />There be early chancy aspect to the film, script-wise and visually, but the chief problem be that you be utterly unable to empathise with the champion of the film. angstrom genuine pity arsenic iodine acknowledge we all desire this movie to beryllium arsenic particular arsenic it truly could rich_person been. there be some commodity bits, largely the military_action scene themselves. This movie have angstrom fantastic film_director and military_action choreographer, and an awesome opposition for JCVD to expression down. This could rich_person be the one to institute the veteran military_action ace rear astir to abrasion inch the balls-out military_action movie stakes.<br /><br />Sincerely angstrom pity that this didn't happen.\n",
      "Adversarial: Isaac Florentine hour_angle make some of the Best Western soldierly humanistic_discipline military_action movies always produced. inch detail United_States sealing_wax 2, cold Harvest, special force and Undisputed two be all military_action classics. You buttocks Tell Isaac hour_angle angstrom real_number heat for the writing_style and his movie be constantly eventful, creative and crisp affairs, with some of the Best battle sequence an military_action sports_fan could promise for. inch detail helium hour_angle establish angstrom Muse with Scott Adkins, arsenic talented an actor and military_action performer arsenic you could promise for. This be bear come_out_of_the_closet with special force and Undisputed 2, but unfortunately The shepherd equitable doesn't populate astir to their abilities.<br /><br />There be nobelium doubt that JCVD expression bettor Hera fight-wise than helium hour_angle make inch years, particularly inch the battle helium hour_angle (for pretty a_lot nobelium reason) inch angstrom prison cell, and inch the final_examination showdown with Scott, but expression inch his eyes. JCVD look to beryllium all_in inside. There's nothing inch his eye astatine all. It's wish helium equitable doesn't caution approximately anything throughout the unharmed film. And this be the lead man.<br /><br />There be early chancy aspect to the film, script-wise and visually, but the chief problem be that you be utterly able to empathise with the champion of the film. angstrom genuine pity arsenic iodine acknowledge we all desire this movie to beryllium arsenic particular arsenic it truly could rich_person been. there be some commodity bits, largely the military_action scene themselves. This movie have angstrom fantastic film_director and military_action choreographer, and an awesome opposition for JCVD to expression down. This could rich_person be the one to institute the veteran military_action ace rear astir to abrasion inch the balls-out military_action movie stakes.<br /><br />Sincerely angstrom pity that this didn't happen.\n",
      "--------------------------------------------------\n",
      "0\n",
      "0\n",
      "Original: It actually striving me to state it, but this movie Washington horrible along every level. The incrimination Department_of_Energy not Lie wholly with avant-garde Damme arsenic you buttocks understand helium try his best, but let's expression it, he's almost fifty, how a_lot More buttocks you necessitate of him? iodine discovery it sol difficult to think that the Lapp citizenry who put_option together Undisputed 2; arguably the Best (western) Martial humanistic_discipline movie inch years, make this. Everything from the plot, to the dialog, to the editing, to the overall act Washington equitable horribly put_option together and inch many case outright drilling and nonsensical. Scott Adkins who's battle scene look More wish angstrom demonstration reel, Washington also terribly underused and not evening the chief villain which be such angstrom pity because 1) helium be More than adequate_to of acting that function and 2) The actual chief villain Washington not lone not intimidate astatine all but also quite annoying. Again, not blame avant-garde Damme. iodine volition constantly beryllium angstrom fan, but debar this one.\n",
      "Adversarial: It actually striving me to state it, but this movie Washington terrifying along every level. The incrimination Department_of_Energy not Lie wholly with avant-garde Damme arsenic you buttocks understand helium try his best, but let's expression it, he's almost fifty, how a_lot More buttocks you necessitate of him? iodine discovery it sol difficult to think that the Lapp citizenry who put_option together Undisputed 2; arguably the Best (western) Martial humanistic_discipline movie inch years, make this. Everything from the plot, to the dialog, to the editing, to the overall act Washington equitable horribly put_option together and inch many case outright drilling and nonsensical. Scott Adkins who's battle scene look More wish angstrom demonstration reel, Washington also terribly underused and not evening the chief villain which be such angstrom pity because 1) helium be More than adequate_to of acting that function and 2) The actual chief villain Washington not lone not intimidate astatine all but also quite annoying. Again, not blame avant-garde Damme. iodine volition constantly beryllium angstrom fan, but debar this one.\n",
      "--------------------------------------------------\n",
      "0\n",
      "0\n",
      "Original: technically I'am angstrom avant-garde Damme Fan, Oregon iodine was. this movie be sol regretful that iodine hate myself for cachexia those ninety minutes. bash not Lashkar-e-Taiba the appoint Isaac Florentine (Undisputed II) chump you, iodine have large hope for this one, depend along what iodine proverb inch (Undisputed II), man.. Washington iodine incorrect ??! all military_action fan desire angstrom large rejoinder for the authoritative military_action hero, but iodine think we wont beryllium able to understand that soon, arsenic our champion support approach with those (going -to-a-border - far-away-town-and -kill -the-bad-guys- than-comeback- home) movies iodine entail for God's sake, we be inch 2008, and they importune along make those disappoint movies along every level. Why ??!!! bash your self angstrom favor, omission it.. seriously.\n",
      "Adversarial: technically I'am angstrom avant-garde Damme Fan, Oregon iodine was. this panorama be sol unlucky that iodine hate myself for cachexia those ninety minutes. bash not Lashkar-e-Taiba the appoint Isaac Florentine (Undisputed II) chump you, iodine have large hope for this one, depend along what iodine proverb inch (Undisputed II), man.. Washington iodine incorrect ??! all military_action fan desire angstrom large rejoinder for the authoritative military_action hero, but iodine think we wont beryllium able to understand that soon, arsenic our champion support approach with those (going -to-a-border - far-away-town-and -kill -the-bad-guys- than-comeback- home) movies iodine entails for God's sake, we be inch 2008, and they importune along make those endear movies along all niveau. Thus ??!!! bashes your self angstrom favor, omission it.. meticulously.\n",
      "--------------------------------------------------\n",
      "0\n",
      "0\n",
      "Original: honestly atrocious film, regretful editing, atrocious lighting, desperate dialogue and scrappy screenplay.<br /><br />The light astatine be sol regretful there's moment you can't evening understand what's departure on, iodine evening try to acting with the line and brightness sol iodine could understand something but that didn't help.<br /><br />They mustiness rich_person establish the handwriting inch angstrom bin, the fictional_character growth be equitable arsenic atrocious and while you barely ask a_lot from angstrom Jean-Claude avant-garde Damme movie this one pull_off to collision an all clock_time low. You can't evening joke astatine the cheesy'ness.<br /><br />The direct and edit be also terrible, the unharmed movie follow an highly tire act and fail astatine every bend arsenic it botch done the diagram that be sol watery it's equitable unreal.<br /><br />There's not angstrom batch else to state early than it's truly regretful and nothing wish Jean-Claude avant-garde Damme's early employment which you could enjoy.<br /><br />Avoid wish the plaque, frankly lyric fail me inch condemn this \"film\".\n",
      "Adversarial: honestly cruel film, sorrowful amend, heinous illumination, anguished chat and spunky storyline.<br /><br />The luz astatine represented sol regretful there's moments you can't afternoons encompasses what's resignation on, iodine evening try to caretaker with the line and brightness sol iodine could understand something but that didn't subsidy.<br /><br />They mustiness rich_person establish the handwriting inch angstrom bin, the fictional_character growth be dispassionate arsenic atrocious and while you barely ask a_lot from angstrom Jean-Claude avant-garde Mah movie this one pull_off to colliding an all clock_time smaller. You can't evenings joke astatine the cheesy'ness.<br /><br />The direct and edit be also terrible, the unharmed movie follow an highly tire act and fail astatine every bend arsenic it botch done the diagram that be sol watery it's equitable unreal.<br /><br />There's not angstrom batch else to state early than it's truly regretful and nothing wish Jean-Claude avant-garde Damme's early employment which you could enjoy.<br /><br />Avoid wish the plaque, frankly lyric fail me inch condemn this \"film\".\n",
      "--------------------------------------------------\n"
     ]
    }
   ],
   "source": [
    "for i in range(10):\n",
    "    print(results[i].perturbed_result.ground_truth_output)\n",
    "    print(labels[i])\n",
    "    print(\"Original:\", original_texts[i])\n",
    "    print(\"Adversarial:\", adversarial_texts[i])\n",
    "    print(\"-\" * 50)"
   ]
  },
  {
   "cell_type": "code",
   "execution_count": null,
   "metadata": {},
   "outputs": [
    {
     "ename": "AttributeError",
     "evalue": "'HuggingFaceDataset' object has no attribute 'map'",
     "output_type": "error",
     "traceback": [
      "\u001b[0;31m---------------------------------------------------------------------------\u001b[0m",
      "\u001b[0;31mAttributeError\u001b[0m                            Traceback (most recent call last)",
      "Cell \u001b[0;32mIn[17], line 2\u001b[0m\n\u001b[1;32m      1\u001b[0m \u001b[38;5;66;03m# Apply synonym replacement to the attack dataset\u001b[39;00m\n\u001b[0;32m----> 2\u001b[0m attack_synonym_replacement \u001b[38;5;241m=\u001b[39m synonym_replacement_dataset(huggingface_dataset)\n\u001b[1;32m      4\u001b[0m attacker \u001b[38;5;241m=\u001b[39m Attacker(attack, attack_synonym_replacement)\n\u001b[1;32m      6\u001b[0m \u001b[38;5;66;03m# Run the attack and generate adversarial examples\u001b[39;00m\n",
      "Cell \u001b[0;32mIn[15], line 22\u001b[0m, in \u001b[0;36msynonym_replacement_dataset\u001b[0;34m(dataset)\u001b[0m\n\u001b[1;32m     21\u001b[0m \u001b[38;5;28;01mdef\u001b[39;00m \u001b[38;5;21msynonym_replacement_dataset\u001b[39m(dataset):\n\u001b[0;32m---> 22\u001b[0m     dataset_synonym_replacement \u001b[38;5;241m=\u001b[39m dataset\u001b[38;5;241m.\u001b[39mmap(\u001b[38;5;28;01mlambda\u001b[39;00m x: {\u001b[38;5;124m'\u001b[39m\u001b[38;5;124mtext\u001b[39m\u001b[38;5;124m'\u001b[39m: synonym_replacement(x[\u001b[38;5;124m'\u001b[39m\u001b[38;5;124mtext\u001b[39m\u001b[38;5;124m'\u001b[39m])})\n\u001b[1;32m     23\u001b[0m     \u001b[38;5;28;01mreturn\u001b[39;00m dataset_synonym_replacement\n",
      "\u001b[0;31mAttributeError\u001b[0m: 'HuggingFaceDataset' object has no attribute 'map'"
     ]
    }
   ],
   "source": [
    "wrapped_model = HuggingFaceModelWrapper(bert_model, bert_tokenizer)\n",
    "\n",
    "# Create the attack\n",
    "attack = TextFoolerJin2019.build(wrapped_model)   \n",
    "attack.max_candidates = 10   # Increase the number of candidates\n",
    "attack.max_num_words = 5     # Allow more words to be perturbed\n",
    "attack.threshold = 0.3       # Lower the threshold for more perturbation\n",
    "\n",
    "# Use Hugging Face dataset (IMDB)\n",
    "huggingface_dataset = HuggingFaceDataset(\"imdb\", split='test')\n",
    "\n",
    "\n",
    "# Apply synonym replacement to the attack dataset\n",
    "attack_synonym_replacement = synonym_replacement_dataset(huggingface_dataset)\n",
    "\n",
    "attacker = Attacker(attack, attack_synonym_replacement)\n",
    "\n",
    "# Run the attack and generate adversarial examples\n",
    "results = attacker.attack_dataset()\n",
    "\n",
    "# Display a few adversarial examples\n",
    "for i in range(5):\n",
    "    print(\"Original:\", results[i].original_text())\n",
    "    print(\"Adversarial:\", results[i].perturbed_text())\n",
    "    print(\"-\" * 50)"
   ]
  },
  {
   "cell_type": "code",
   "execution_count": null,
   "metadata": {},
   "outputs": [],
   "source": [
    "# Majority voting for ensemble methods\n",
    "def majority_voting(predictions_bert, predictions_electra):\n",
    "    votes = torch.stack([predictions_bert, predictions_electra])\n",
    "    majority_vote = torch.mode(votes, dim=0)[0]\n",
    "    return majority_vote\n",
    "\n",
    "preds_bert = trainer_bert.predict(bert_encoded['test']).predictions\n",
    "preds_electra = trainer_electra.predict(electra_encoded['test']).predictions\n",
    "\n",
    "# Get majority vote predictions\n",
    "final_predictions = majority_voting(preds_bert, preds_electra)\n",
    "\n",
    "# Get majority vote predictions on the data in the attack dataset\n",
    "attack_preds_bert = trainer_bert.predict(attack_synonym_replacement).predictions\n",
    "attack_preds_electra = trainer_electra.predict(attack_synonym_replacement).predictions\n",
    "\n",
    "\n",
    "# Evaluate using majority vote predictions\n",
    "true_labels = bert_encoded['test']['label']\n",
    "acc = accuracy_score(true_labels, final_predictions)\n",
    "f1 = f1_score(true_labels, final_predictions, average='weighted')\n",
    "\n",
    "print(f\"Accuracy: {acc}\")\n",
    "print(f\"F1 Score: {f1}\")\n",
    "\n"
   ]
  },
  {
   "cell_type": "code",
   "execution_count": null,
   "metadata": {},
   "outputs": [],
   "source": [
    "# generate a training dataset with adversarial examples\n",
    "# Wrap dataset in TextAttack format\n",
    "wrapped_model = HuggingFaceModelWrapper(bert_model, bert_tokenizer)\n",
    "\n",
    "# Create the attack\n",
    "attack = TextFoolerJin2019.build(wrapped_model)\n",
    "attack.max_candidates = 10   # Increase the number of candidates\n",
    "attack.max_num_words = 5     # Allow more words to be perturbed\n",
    "attack.threshold = 0.3       # Lower the threshold for more perturbation\n",
    "\n",
    "# Use Hugging Face dataset (IMDB)\n",
    "huggingface_dataset = HuggingFaceDataset(\"imdb\", split='train')\n",
    "\n",
    "# Create the attacker\n",
    "attacker = Attacker(attack, huggingface_dataset)\n",
    "\n",
    "\n"
   ]
  },
  {
   "cell_type": "code",
   "execution_count": null,
   "metadata": {},
   "outputs": [],
   "source": [
    "def adversarial_training(model, tokenizer, dataset, adversarial_examples):\n",
    "    # Augment dataset with adversarial examples and fine-tune model\n",
    "    augmented_dataset = dataset.add_adversarial_examples(adversarial_examples)\n",
    "    trainer = Trainer(\n",
    "        model=model,\n",
    "        args=TrainingArguments(\n",
    "            output_dir=\"./adversarial_results\",\n",
    "            evaluation_strategy=\"epoch\",\n",
    "            per_device_train_batch_size=16,\n",
    "            num_train_epochs=3\n",
    "        ),\n",
    "        train_dataset=augmented_dataset\n",
    "    )\n",
    "    trainer.train()\n",
    "\n",
    "\n",
    "bert_model.save_pretrained('./models/bert_adversarial_trained')\n",
    "bert_tokenizer.save_pretrained('./models/bert_adversarial_trained')\n",
    "\n",
    "# Week 9-10: Evaluate Defense Strategies\n",
    "def evaluate_defense_strategies(model, dataset, adversarial_examples, transformations):\n",
    "    # Full-scale experiment comparing strategies\n",
    "    base_metrics = evaluate_model(model, tokenizer, dataset)\n",
    "    adversarial_metrics = evaluate_model(model, tokenizer, adversarial_examples)\n",
    "    transformed_metrics = evaluate_model(model, tokenizer, transformations)\n",
    "    return base_metrics, adversarial_metrics, transformed_metrics\n",
    "\n",
    "# Week 11-12: Compile Results and Prepare Presentation\n",
    "def compile_results(results):\n",
    "    # Save and present results\n",
    "    with open(\"final_results.txt\", \"w\") as f:\n",
    "        f.write(str(results))\n",
    "\n",
    "# Main Pipeline\n",
    "if __name__ == \"__main__\":\n",
    "    # Load datasets\n",
    "    train_data, test_data = load_datasets()\n",
    "\n",
    "    # Initialize models\n",
    "    tokenizer, model = initialize_model(\"bert-base-uncased\")\n",
    "\n",
    "    # Baseline evaluation\n",
    "    baseline_metrics = evaluate_model(model, tokenizer, test_data)\n",
    "\n",
    "    # Generate adversarial examples\n",
    "    adversarial_examples = generate_adversarial_examples(model, tokenizer, test_data)\n",
    "\n",
    "    # Adversarial training\n",
    "    adversarial_training(model, tokenizer, train_data, adversarial_examples)\n",
    "\n",
    "    # Input transformations\n",
    "    transformed_examples = [input_transformation(example) for example in adversarial_examples]\n",
    "\n",
    "    # Evaluate defense strategies\n",
    "    results = evaluate_defense_strategies(model, test_data, adversarial_examples, transformed_examples)\n",
    "\n",
    "    # Compile results\n",
    "    compile_results(results)\n"
   ]
  }
 ],
 "metadata": {
  "kernelspec": {
   "display_name": "base",
   "language": "python",
   "name": "python3"
  },
  "language_info": {
   "codemirror_mode": {
    "name": "ipython",
    "version": 3
   },
   "file_extension": ".py",
   "mimetype": "text/x-python",
   "name": "python",
   "nbconvert_exporter": "python",
   "pygments_lexer": "ipython3",
   "version": "3.11.5"
  }
 },
 "nbformat": 4,
 "nbformat_minor": 2
}
